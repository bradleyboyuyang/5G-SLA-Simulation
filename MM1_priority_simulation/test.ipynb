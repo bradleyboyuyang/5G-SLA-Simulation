{
 "cells": [
  {
   "cell_type": "code",
   "execution_count": 2,
   "metadata": {},
   "outputs": [],
   "source": [
    "from IPython.display import display\n",
    "import warnings\n",
    "import numpy as np\n",
    "import pandas as pd\n",
    "import matplotlib.pyplot as plt\n",
    "import seaborn as sns\n",
    "import statsmodels.api as sm\n",
    "import scipy.stats as stats\n",
    "from datetime import datetime\n",
    "\n",
    "plt.rcParams['font.family'] = ['sans-serif']\n",
    "plt.rcParams['font.sans-serif'] = ['SimHei']  # 用来正常显示中文标签`\n",
    "plt.rcParams['axes.unicode_minus'] = False\n",
    "plt.rcParams['figure.figsize'] = (8, 5)  # 提前设置图片形状大小\n",
    "\n",
    "# 在notebook中可以更好的显示，svg输出是一种向量化格式，缩放网页并不会导致图片失真。这行代码似乎只用在ipynb文件中才能使用。\n",
    "%config InlineBackend.figure_format = 'svg'\n",
    "\n",
    "%matplotlib inline\n",
    "\n",
    "warnings.filterwarnings('ignore')  # 忽略一些warnings\n",
    "# This allows multiple outputs from a single jupyter notebook cell:\n",
    "from IPython.core.interactiveshell import InteractiveShell\n",
    "InteractiveShell.ast_node_interactivity = \"all\"\n",
    "pd.set_option('expand_frame_repr', False)\n",
    "pd.set_option('display.unicode.ambiguous_as_wide', True)\n",
    "pd.set_option('display.unicode.east_asian_width', True)\n",
    "pd.set_option('display.width', 180)\n"
   ]
  },
  {
   "cell_type": "code",
   "execution_count": null,
   "metadata": {},
   "outputs": [],
   "source": [
    "    lam_ref = np.array([[0.6],[0.2]], dtype=float)\n",
    "    mu_ref = np.array([[2],[1]], dtype=float)"
   ]
  },
  {
   "cell_type": "code",
   "execution_count": 3,
   "metadata": {},
   "outputs": [
    {
     "name": "stdout",
     "output_type": "stream",
     "text": [
      "[0.27240316 0.01872605 0.01317181]\n",
      "[-1.63517028e+00  2.30622437e+01  2.90759650e+02  2.98845697e+03]\n"
     ]
    }
   ],
   "source": [
    "class Distribution:\n",
    "    def __init__(self, offset:float):\n",
    "        self.offset = offset\n",
    "\n",
    "    def sample(self) -> float:\n",
    "        raise NotImplementedError\n",
    "\n",
    "    def __call__(self):\n",
    "        return self.sample()\n",
    "\n",
    "    def input(self, x:float) -> float:\n",
    "        return x - self.offset\n",
    "\n",
    "    def output(self, x:float) -> float:\n",
    "        return x + self.offset\n",
    "\n",
    "    def logW(self, x:float) -> float:\n",
    "        raise NotImplementedError\n",
    "\n",
    "    def logW_tail(self, x:float) -> float:\n",
    "        raise NotImplementedError\n",
    "\n",
    "class ExponDistri(Distribution):\n",
    "    def __init__(self, rates:list[float], seed:int=None, eps:float=1e-7):\n",
    "        \"\"\"An exponential random variable generator and compute log-likelihood ratio. \n",
    "        However, due to precision limitations of simpy, we cannot sample too small value.\n",
    "\n",
    "        Args:\n",
    "            rates (list[float]): rates\n",
    "            eps (float, optional): offset. Defaults to 1e-7.\n",
    "            seed (int, optional): random seed. Defaults to None.\n",
    "        \"\"\"        \n",
    "        super().__init__(eps)\n",
    "        self.rates = np.array(rates)\n",
    "        self.num_phase = len(self.rates)\n",
    "        self.seed = seed\n",
    "        self.random = np.random.RandomState(seed=seed) \n",
    "        \n",
    "    def sample(self, phase:int=0) -> float:\n",
    "        \"\"\"Sample an exponential random variable by using the rate `rates[phase]`. \n",
    "\n",
    "        Args:\n",
    "            phase (int or narray, optional): phase to sample. Defaults to 0.\n",
    "\n",
    "        Returns:\n",
    "            float: an exponential random variable \n",
    "        \"\"\"        \n",
    "        sample = self.random.exponential(scale=1/self.rates[phase])\n",
    "        return self.output(sample)\n",
    "    \n",
    "    def _logpdf(self, x:float, phase:int=0) -> float:\n",
    "        lam = self.rates[phase]\n",
    "        return np.log(lam) - lam * x\n",
    "\n",
    "    def _logtail(self, x:float, phase:int=0) -> float:\n",
    "        return -self.rates[phase] * x\n",
    "\n",
    "    def logW(self, x:float, phase:int) -> float:\n",
    "        \"\"\"log-likelihood ratio of x sampling from phase, w.r.t. phase 0\n",
    "\n",
    "        Args:\n",
    "            x (float): input\n",
    "            phase (int | list[int], optional): phase that x samples from. Defaults to 0.\n",
    "\n",
    "        Returns:\n",
    "            float|list[float]: log-likelihood ratio\n",
    "        \"\"\"        \n",
    "        if phase == 0:\n",
    "            return 0\n",
    "        else:\n",
    "            x = self.input(x)\n",
    "            return self._logpdf(x, 0) - self._logpdf(x, phase)\n",
    "\n",
    "    def logW_tail(self, x:float, phase:int) -> float:\n",
    "        \"\"\"log-tail ratio of x sampling from phase, w.r.t. phase 0\n",
    "\n",
    "        Args:\n",
    "            x (float): input\n",
    "            phase (int | list[int], optional): phase that x samples from. Defaults to 0.\n",
    "\n",
    "        Returns:\n",
    "            float|list[float]: log-tail ratio\n",
    "        \"\"\"    \n",
    "        if phase == 0:\n",
    "            return 0\n",
    "        else:\n",
    "            x = self.input(x)\n",
    "            return self._logtail(x, 0) - self._logtail(x, phase)\n",
    "\n",
    "rates = [0.01, 0.1, 1, 10, 100, 1000]\n",
    "exp = ExponDistri(rates)\n",
    "print(exp.sample([2,3,4]))\n",
    "print(exp.logW(3, [2,3,4,5]))"
   ]
  },
  {
   "cell_type": "code",
   "execution_count": 7,
   "metadata": {},
   "outputs": [
    {
     "data": {
      "text/plain": [
       "4.8"
      ]
     },
     "execution_count": 7,
     "metadata": {},
     "output_type": "execute_result"
    }
   ],
   "source": [
    "min(10, np.quantile([1,2,3,4,5], 0.95))"
   ]
  },
  {
   "cell_type": "code",
   "execution_count": 5,
   "metadata": {},
   "outputs": [
    {
     "data": {
      "text/plain": [
       "[<__main__.ExponDistri at 0x1c16bf3dc10>,\n",
       " <__main__.ExponDistri at 0x1c16bf335b0>]"
      ]
     },
     "execution_count": 5,
     "metadata": {},
     "output_type": "execute_result"
    }
   ],
   "source": [
    "lam = np.array([[0.6, 0.8333],\n",
    "                [0.2, 0.4666]])\n",
    "mu = np.array([[   2,    1.2],\n",
    "               [   1,    0.2]])\n",
    "\n",
    "[ExponDistri(lam[i], np.random.randint(1000000)) for i in range(2)]"
   ]
  },
  {
   "cell_type": "code",
   "execution_count": 1,
   "metadata": {},
   "outputs": [
    {
     "data": {
      "text/plain": [
       "15"
      ]
     },
     "execution_count": 1,
     "metadata": {},
     "output_type": "execute_result"
    }
   ],
   "source": [
    "from multiprocessing import Pool, freeze_support, cpu_count\n",
    "max(cpu_count() - 1, 1)"
   ]
  },
  {
   "cell_type": "code",
   "execution_count": 33,
   "metadata": {},
   "outputs": [
    {
     "data": {
      "text/html": [
       "<div>\n",
       "<style scoped>\n",
       "    .dataframe tbody tr th:only-of-type {\n",
       "        vertical-align: middle;\n",
       "    }\n",
       "\n",
       "    .dataframe tbody tr th {\n",
       "        vertical-align: top;\n",
       "    }\n",
       "\n",
       "    .dataframe thead th {\n",
       "        text-align: right;\n",
       "    }\n",
       "</style>\n",
       "<table border=\"1\" class=\"dataframe\">\n",
       "  <thead>\n",
       "    <tr style=\"text-align: right;\">\n",
       "      <th></th>\n",
       "      <th>0</th>\n",
       "      <th>1</th>\n",
       "      <th>2</th>\n",
       "      <th>3</th>\n",
       "      <th>4</th>\n",
       "      <th>5</th>\n",
       "      <th>6</th>\n",
       "      <th>7</th>\n",
       "      <th>8</th>\n",
       "      <th>9</th>\n",
       "      <th>...</th>\n",
       "      <th>295</th>\n",
       "      <th>296</th>\n",
       "      <th>297</th>\n",
       "      <th>298</th>\n",
       "      <th>299</th>\n",
       "      <th>300</th>\n",
       "      <th>301</th>\n",
       "      <th>302</th>\n",
       "      <th>303</th>\n",
       "      <th>304</th>\n",
       "    </tr>\n",
       "  </thead>\n",
       "  <tbody>\n",
       "    <tr>\n",
       "      <th>0</th>\n",
       "      <td>0</td>\n",
       "      <td>0.6</td>\n",
       "      <td>0.757056</td>\n",
       "      <td>2</td>\n",
       "      <td>1.457555</td>\n",
       "      <td>100000</td>\n",
       "      <td>29.108651</td>\n",
       "      <td>1819461</td>\n",
       "      <td>1.662982</td>\n",
       "      <td>[1.635,1.691]</td>\n",
       "      <td>...</td>\n",
       "      <td>0.22810</td>\n",
       "      <td>0.491864</td>\n",
       "      <td>0.679790</td>\n",
       "      <td>0.677317</td>\n",
       "      <td>0.00078</td>\n",
       "      <td>0.533982</td>\n",
       "      <td>0.222383</td>\n",
       "      <td>0.002316</td>\n",
       "      <td>0.33677</td>\n",
       "      <td>0.290571</td>\n",
       "    </tr>\n",
       "    <tr>\n",
       "      <th>1</th>\n",
       "      <td>1</td>\n",
       "      <td>0.6</td>\n",
       "      <td>0.757056</td>\n",
       "      <td>2</td>\n",
       "      <td>1.457555</td>\n",
       "      <td>100000</td>\n",
       "      <td>34.913426</td>\n",
       "      <td>1812566</td>\n",
       "      <td>1.644043</td>\n",
       "      <td>[1.619,1.669]</td>\n",
       "      <td>...</td>\n",
       "      <td>0.22841</td>\n",
       "      <td>0.500228</td>\n",
       "      <td>0.733543</td>\n",
       "      <td>0.680906</td>\n",
       "      <td>0.00091</td>\n",
       "      <td>0.511452</td>\n",
       "      <td>0.197839</td>\n",
       "      <td>0.002713</td>\n",
       "      <td>0.33545</td>\n",
       "      <td>0.296525</td>\n",
       "    </tr>\n",
       "    <tr>\n",
       "      <th>2</th>\n",
       "      <td>2</td>\n",
       "      <td>0.6</td>\n",
       "      <td>0.757056</td>\n",
       "      <td>2</td>\n",
       "      <td>1.457555</td>\n",
       "      <td>100000</td>\n",
       "      <td>35.208951</td>\n",
       "      <td>1808790</td>\n",
       "      <td>1.679207</td>\n",
       "      <td>[1.652,1.706]</td>\n",
       "      <td>...</td>\n",
       "      <td>0.22823</td>\n",
       "      <td>0.499747</td>\n",
       "      <td>0.687108</td>\n",
       "      <td>0.682751</td>\n",
       "      <td>0.00096</td>\n",
       "      <td>0.589867</td>\n",
       "      <td>0.321726</td>\n",
       "      <td>0.002872</td>\n",
       "      <td>0.33428</td>\n",
       "      <td>0.312477</td>\n",
       "    </tr>\n",
       "    <tr>\n",
       "      <th>3</th>\n",
       "      <td>3</td>\n",
       "      <td>0.6</td>\n",
       "      <td>0.757056</td>\n",
       "      <td>2</td>\n",
       "      <td>1.457555</td>\n",
       "      <td>100000</td>\n",
       "      <td>35.156116</td>\n",
       "      <td>1804203</td>\n",
       "      <td>1.671269</td>\n",
       "      <td>[1.645,1.698]</td>\n",
       "      <td>...</td>\n",
       "      <td>0.22808</td>\n",
       "      <td>0.490578</td>\n",
       "      <td>0.598408</td>\n",
       "      <td>0.685625</td>\n",
       "      <td>0.00085</td>\n",
       "      <td>0.595380</td>\n",
       "      <td>0.238272</td>\n",
       "      <td>0.002555</td>\n",
       "      <td>0.33266</td>\n",
       "      <td>0.282476</td>\n",
       "    </tr>\n",
       "    <tr>\n",
       "      <th>4</th>\n",
       "      <td>4</td>\n",
       "      <td>0.6</td>\n",
       "      <td>0.757056</td>\n",
       "      <td>2</td>\n",
       "      <td>1.457555</td>\n",
       "      <td>100000</td>\n",
       "      <td>35.544403</td>\n",
       "      <td>1800811</td>\n",
       "      <td>1.683032</td>\n",
       "      <td>[1.654,1.712]</td>\n",
       "      <td>...</td>\n",
       "      <td>0.22800</td>\n",
       "      <td>0.496932</td>\n",
       "      <td>0.721487</td>\n",
       "      <td>0.682043</td>\n",
       "      <td>0.00091</td>\n",
       "      <td>0.508545</td>\n",
       "      <td>0.289435</td>\n",
       "      <td>0.002722</td>\n",
       "      <td>0.33429</td>\n",
       "      <td>0.302465</td>\n",
       "    </tr>\n",
       "    <tr>\n",
       "      <th>5</th>\n",
       "      <td>5</td>\n",
       "      <td>0.6</td>\n",
       "      <td>0.757056</td>\n",
       "      <td>2</td>\n",
       "      <td>1.457555</td>\n",
       "      <td>100000</td>\n",
       "      <td>35.221129</td>\n",
       "      <td>1799597</td>\n",
       "      <td>1.672942</td>\n",
       "      <td>[1.644,1.702]</td>\n",
       "      <td>...</td>\n",
       "      <td>0.22728</td>\n",
       "      <td>0.498428</td>\n",
       "      <td>0.718113</td>\n",
       "      <td>0.681540</td>\n",
       "      <td>0.00088</td>\n",
       "      <td>0.594419</td>\n",
       "      <td>0.205939</td>\n",
       "      <td>0.002639</td>\n",
       "      <td>0.33348</td>\n",
       "      <td>0.303946</td>\n",
       "    </tr>\n",
       "    <tr>\n",
       "      <th>6</th>\n",
       "      <td>6</td>\n",
       "      <td>0.6</td>\n",
       "      <td>0.757056</td>\n",
       "      <td>2</td>\n",
       "      <td>1.457555</td>\n",
       "      <td>100000</td>\n",
       "      <td>35.370415</td>\n",
       "      <td>1797066</td>\n",
       "      <td>1.668780</td>\n",
       "      <td>[1.644,1.694]</td>\n",
       "      <td>...</td>\n",
       "      <td>0.22657</td>\n",
       "      <td>0.503509</td>\n",
       "      <td>0.699856</td>\n",
       "      <td>0.678963</td>\n",
       "      <td>0.00091</td>\n",
       "      <td>0.555648</td>\n",
       "      <td>0.267999</td>\n",
       "      <td>0.002727</td>\n",
       "      <td>0.33370</td>\n",
       "      <td>0.301353</td>\n",
       "    </tr>\n",
       "    <tr>\n",
       "      <th>7</th>\n",
       "      <td>7</td>\n",
       "      <td>0.6</td>\n",
       "      <td>0.757056</td>\n",
       "      <td>2</td>\n",
       "      <td>1.457555</td>\n",
       "      <td>100000</td>\n",
       "      <td>38.298417</td>\n",
       "      <td>1808522</td>\n",
       "      <td>1.663185</td>\n",
       "      <td>[1.637,1.689]</td>\n",
       "      <td>...</td>\n",
       "      <td>0.22893</td>\n",
       "      <td>0.500122</td>\n",
       "      <td>0.722790</td>\n",
       "      <td>0.682090</td>\n",
       "      <td>0.00105</td>\n",
       "      <td>0.510556</td>\n",
       "      <td>0.221924</td>\n",
       "      <td>0.003128</td>\n",
       "      <td>0.33563</td>\n",
       "      <td>0.298527</td>\n",
       "    </tr>\n",
       "    <tr>\n",
       "      <th>8</th>\n",
       "      <td>8</td>\n",
       "      <td>0.6</td>\n",
       "      <td>0.757056</td>\n",
       "      <td>2</td>\n",
       "      <td>1.457555</td>\n",
       "      <td>100000</td>\n",
       "      <td>40.791520</td>\n",
       "      <td>1819008</td>\n",
       "      <td>1.658004</td>\n",
       "      <td>[1.632,1.684]</td>\n",
       "      <td>...</td>\n",
       "      <td>0.23024</td>\n",
       "      <td>0.494642</td>\n",
       "      <td>0.610010</td>\n",
       "      <td>0.687202</td>\n",
       "      <td>0.00084</td>\n",
       "      <td>0.444793</td>\n",
       "      <td>0.100497</td>\n",
       "      <td>0.002507</td>\n",
       "      <td>0.33504</td>\n",
       "      <td>0.272222</td>\n",
       "    </tr>\n",
       "    <tr>\n",
       "      <th>9</th>\n",
       "      <td>9</td>\n",
       "      <td>0.6</td>\n",
       "      <td>0.757056</td>\n",
       "      <td>2</td>\n",
       "      <td>1.457555</td>\n",
       "      <td>100000</td>\n",
       "      <td>38.209039</td>\n",
       "      <td>1803517</td>\n",
       "      <td>1.657229</td>\n",
       "      <td>[1.631,1.683]</td>\n",
       "      <td>...</td>\n",
       "      <td>0.23052</td>\n",
       "      <td>0.496102</td>\n",
       "      <td>0.622067</td>\n",
       "      <td>0.682597</td>\n",
       "      <td>0.00104</td>\n",
       "      <td>0.471720</td>\n",
       "      <td>0.110473</td>\n",
       "      <td>0.003080</td>\n",
       "      <td>0.33771</td>\n",
       "      <td>0.299070</td>\n",
       "    </tr>\n",
       "    <tr>\n",
       "      <th>10</th>\n",
       "      <td>10</td>\n",
       "      <td>0.6</td>\n",
       "      <td>0.757056</td>\n",
       "      <td>2</td>\n",
       "      <td>1.457555</td>\n",
       "      <td>100000</td>\n",
       "      <td>36.871944</td>\n",
       "      <td>1818225</td>\n",
       "      <td>1.655854</td>\n",
       "      <td>[1.631,1.681]</td>\n",
       "      <td>...</td>\n",
       "      <td>0.22924</td>\n",
       "      <td>0.490942</td>\n",
       "      <td>0.629069</td>\n",
       "      <td>0.681248</td>\n",
       "      <td>0.00083</td>\n",
       "      <td>0.531254</td>\n",
       "      <td>0.362709</td>\n",
       "      <td>0.002467</td>\n",
       "      <td>0.33650</td>\n",
       "      <td>0.277310</td>\n",
       "    </tr>\n",
       "    <tr>\n",
       "      <th>11</th>\n",
       "      <td>11</td>\n",
       "      <td>0.6</td>\n",
       "      <td>0.757056</td>\n",
       "      <td>2</td>\n",
       "      <td>1.457555</td>\n",
       "      <td>100000</td>\n",
       "      <td>39.749522</td>\n",
       "      <td>1813967</td>\n",
       "      <td>1.675464</td>\n",
       "      <td>[1.647,1.704]</td>\n",
       "      <td>...</td>\n",
       "      <td>0.22974</td>\n",
       "      <td>0.498404</td>\n",
       "      <td>0.691072</td>\n",
       "      <td>0.686037</td>\n",
       "      <td>0.00092</td>\n",
       "      <td>0.538798</td>\n",
       "      <td>0.203102</td>\n",
       "      <td>0.002747</td>\n",
       "      <td>0.33488</td>\n",
       "      <td>0.278305</td>\n",
       "    </tr>\n",
       "    <tr>\n",
       "      <th>12</th>\n",
       "      <td>12</td>\n",
       "      <td>0.6</td>\n",
       "      <td>0.757056</td>\n",
       "      <td>2</td>\n",
       "      <td>1.457555</td>\n",
       "      <td>100000</td>\n",
       "      <td>40.816828</td>\n",
       "      <td>1828456</td>\n",
       "      <td>1.671832</td>\n",
       "      <td>[1.646,1.697]</td>\n",
       "      <td>...</td>\n",
       "      <td>0.22913</td>\n",
       "      <td>0.503441</td>\n",
       "      <td>0.786338</td>\n",
       "      <td>0.678743</td>\n",
       "      <td>0.00083</td>\n",
       "      <td>0.582698</td>\n",
       "      <td>0.276419</td>\n",
       "      <td>0.002459</td>\n",
       "      <td>0.33758</td>\n",
       "      <td>0.315127</td>\n",
       "    </tr>\n",
       "    <tr>\n",
       "      <th>13</th>\n",
       "      <td>13</td>\n",
       "      <td>0.6</td>\n",
       "      <td>0.757056</td>\n",
       "      <td>2</td>\n",
       "      <td>1.457555</td>\n",
       "      <td>100000</td>\n",
       "      <td>39.405542</td>\n",
       "      <td>1809435</td>\n",
       "      <td>1.677912</td>\n",
       "      <td>[1.653,1.703]</td>\n",
       "      <td>...</td>\n",
       "      <td>0.22821</td>\n",
       "      <td>0.492295</td>\n",
       "      <td>0.664624</td>\n",
       "      <td>0.681021</td>\n",
       "      <td>0.00087</td>\n",
       "      <td>0.568054</td>\n",
       "      <td>0.244127</td>\n",
       "      <td>0.002596</td>\n",
       "      <td>0.33510</td>\n",
       "      <td>0.280540</td>\n",
       "    </tr>\n",
       "    <tr>\n",
       "      <th>14</th>\n",
       "      <td>14</td>\n",
       "      <td>0.6</td>\n",
       "      <td>0.757056</td>\n",
       "      <td>2</td>\n",
       "      <td>1.457555</td>\n",
       "      <td>100000</td>\n",
       "      <td>38.941230</td>\n",
       "      <td>1807118</td>\n",
       "      <td>1.672095</td>\n",
       "      <td>[1.645,1.699]</td>\n",
       "      <td>...</td>\n",
       "      <td>0.22843</td>\n",
       "      <td>0.498294</td>\n",
       "      <td>0.822063</td>\n",
       "      <td>0.682064</td>\n",
       "      <td>0.00070</td>\n",
       "      <td>0.569767</td>\n",
       "      <td>0.209896</td>\n",
       "      <td>0.002090</td>\n",
       "      <td>0.33491</td>\n",
       "      <td>0.325687</td>\n",
       "    </tr>\n",
       "    <tr>\n",
       "      <th>15</th>\n",
       "      <td>15</td>\n",
       "      <td>0.6</td>\n",
       "      <td>0.757056</td>\n",
       "      <td>2</td>\n",
       "      <td>1.457555</td>\n",
       "      <td>100000</td>\n",
       "      <td>38.537451</td>\n",
       "      <td>1816474</td>\n",
       "      <td>1.667119</td>\n",
       "      <td>[1.633,1.701]</td>\n",
       "      <td>...</td>\n",
       "      <td>0.22914</td>\n",
       "      <td>0.493367</td>\n",
       "      <td>0.594697</td>\n",
       "      <td>0.684429</td>\n",
       "      <td>0.00091</td>\n",
       "      <td>0.545440</td>\n",
       "      <td>0.167480</td>\n",
       "      <td>0.002718</td>\n",
       "      <td>0.33479</td>\n",
       "      <td>0.284739</td>\n",
       "    </tr>\n",
       "    <tr>\n",
       "      <th>16</th>\n",
       "      <td>16</td>\n",
       "      <td>0.6</td>\n",
       "      <td>0.757056</td>\n",
       "      <td>2</td>\n",
       "      <td>1.457555</td>\n",
       "      <td>100000</td>\n",
       "      <td>38.055708</td>\n",
       "      <td>1792023</td>\n",
       "      <td>1.691173</td>\n",
       "      <td>[1.66,1.723]</td>\n",
       "      <td>...</td>\n",
       "      <td>0.22680</td>\n",
       "      <td>0.490602</td>\n",
       "      <td>0.826628</td>\n",
       "      <td>0.681470</td>\n",
       "      <td>0.00096</td>\n",
       "      <td>0.490651</td>\n",
       "      <td>0.154380</td>\n",
       "      <td>0.002885</td>\n",
       "      <td>0.33281</td>\n",
       "      <td>0.327784</td>\n",
       "    </tr>\n",
       "    <tr>\n",
       "      <th>17</th>\n",
       "      <td>17</td>\n",
       "      <td>0.6</td>\n",
       "      <td>0.757056</td>\n",
       "      <td>2</td>\n",
       "      <td>1.457555</td>\n",
       "      <td>100000</td>\n",
       "      <td>40.814459</td>\n",
       "      <td>1796690</td>\n",
       "      <td>1.687207</td>\n",
       "      <td>[1.659,1.716]</td>\n",
       "      <td>...</td>\n",
       "      <td>0.22772</td>\n",
       "      <td>0.492969</td>\n",
       "      <td>0.628515</td>\n",
       "      <td>0.680452</td>\n",
       "      <td>0.00092</td>\n",
       "      <td>0.542652</td>\n",
       "      <td>0.242184</td>\n",
       "      <td>0.002749</td>\n",
       "      <td>0.33466</td>\n",
       "      <td>0.281607</td>\n",
       "    </tr>\n",
       "    <tr>\n",
       "      <th>18</th>\n",
       "      <td>18</td>\n",
       "      <td>0.6</td>\n",
       "      <td>0.757056</td>\n",
       "      <td>2</td>\n",
       "      <td>1.457555</td>\n",
       "      <td>100000</td>\n",
       "      <td>37.120757</td>\n",
       "      <td>1795762</td>\n",
       "      <td>1.663601</td>\n",
       "      <td>[1.638,1.689]</td>\n",
       "      <td>...</td>\n",
       "      <td>0.22849</td>\n",
       "      <td>0.498155</td>\n",
       "      <td>0.675262</td>\n",
       "      <td>0.680070</td>\n",
       "      <td>0.00086</td>\n",
       "      <td>0.480173</td>\n",
       "      <td>0.108373</td>\n",
       "      <td>0.002560</td>\n",
       "      <td>0.33598</td>\n",
       "      <td>0.301389</td>\n",
       "    </tr>\n",
       "    <tr>\n",
       "      <th>19</th>\n",
       "      <td>19</td>\n",
       "      <td>0.6</td>\n",
       "      <td>0.757056</td>\n",
       "      <td>2</td>\n",
       "      <td>1.457555</td>\n",
       "      <td>100000</td>\n",
       "      <td>38.188895</td>\n",
       "      <td>1824966</td>\n",
       "      <td>1.661454</td>\n",
       "      <td>[1.636,1.687]</td>\n",
       "      <td>...</td>\n",
       "      <td>0.22827</td>\n",
       "      <td>0.503861</td>\n",
       "      <td>0.640961</td>\n",
       "      <td>0.681281</td>\n",
       "      <td>0.00092</td>\n",
       "      <td>0.476767</td>\n",
       "      <td>0.167038</td>\n",
       "      <td>0.002746</td>\n",
       "      <td>0.33506</td>\n",
       "      <td>0.293603</td>\n",
       "    </tr>\n",
       "    <tr>\n",
       "      <th>20</th>\n",
       "      <td>20</td>\n",
       "      <td>0.6</td>\n",
       "      <td>0.757056</td>\n",
       "      <td>2</td>\n",
       "      <td>1.457555</td>\n",
       "      <td>100000</td>\n",
       "      <td>37.759325</td>\n",
       "      <td>1801677</td>\n",
       "      <td>1.696544</td>\n",
       "      <td>[1.659,1.734]</td>\n",
       "      <td>...</td>\n",
       "      <td>0.22787</td>\n",
       "      <td>0.505038</td>\n",
       "      <td>0.800524</td>\n",
       "      <td>0.680656</td>\n",
       "      <td>0.00093</td>\n",
       "      <td>0.466821</td>\n",
       "      <td>0.132501</td>\n",
       "      <td>0.002778</td>\n",
       "      <td>0.33478</td>\n",
       "      <td>0.320834</td>\n",
       "    </tr>\n",
       "    <tr>\n",
       "      <th>21</th>\n",
       "      <td>21</td>\n",
       "      <td>0.6</td>\n",
       "      <td>0.757056</td>\n",
       "      <td>2</td>\n",
       "      <td>1.457555</td>\n",
       "      <td>100000</td>\n",
       "      <td>36.751245</td>\n",
       "      <td>1789208</td>\n",
       "      <td>1.677570</td>\n",
       "      <td>[1.649,1.706]</td>\n",
       "      <td>...</td>\n",
       "      <td>0.22747</td>\n",
       "      <td>0.500092</td>\n",
       "      <td>0.755439</td>\n",
       "      <td>0.684141</td>\n",
       "      <td>0.00083</td>\n",
       "      <td>0.551239</td>\n",
       "      <td>0.169821</td>\n",
       "      <td>0.002496</td>\n",
       "      <td>0.33249</td>\n",
       "      <td>0.313144</td>\n",
       "    </tr>\n",
       "    <tr>\n",
       "      <th>22</th>\n",
       "      <td>22</td>\n",
       "      <td>0.6</td>\n",
       "      <td>0.757056</td>\n",
       "      <td>2</td>\n",
       "      <td>1.457555</td>\n",
       "      <td>100000</td>\n",
       "      <td>36.693207</td>\n",
       "      <td>1806344</td>\n",
       "      <td>1.684393</td>\n",
       "      <td>[1.657,1.712]</td>\n",
       "      <td>...</td>\n",
       "      <td>0.22843</td>\n",
       "      <td>0.503141</td>\n",
       "      <td>0.721833</td>\n",
       "      <td>0.680621</td>\n",
       "      <td>0.00088</td>\n",
       "      <td>0.585727</td>\n",
       "      <td>0.403385</td>\n",
       "      <td>0.002622</td>\n",
       "      <td>0.33562</td>\n",
       "      <td>0.293753</td>\n",
       "    </tr>\n",
       "    <tr>\n",
       "      <th>23</th>\n",
       "      <td>23</td>\n",
       "      <td>0.6</td>\n",
       "      <td>0.757056</td>\n",
       "      <td>2</td>\n",
       "      <td>1.457555</td>\n",
       "      <td>100000</td>\n",
       "      <td>36.379803</td>\n",
       "      <td>1798494</td>\n",
       "      <td>1.680464</td>\n",
       "      <td>[1.648,1.713]</td>\n",
       "      <td>...</td>\n",
       "      <td>0.22630</td>\n",
       "      <td>0.489889</td>\n",
       "      <td>0.636694</td>\n",
       "      <td>0.680520</td>\n",
       "      <td>0.00095</td>\n",
       "      <td>0.491994</td>\n",
       "      <td>0.131924</td>\n",
       "      <td>0.002857</td>\n",
       "      <td>0.33254</td>\n",
       "      <td>0.279059</td>\n",
       "    </tr>\n",
       "    <tr>\n",
       "      <th>24</th>\n",
       "      <td>24</td>\n",
       "      <td>0.6</td>\n",
       "      <td>0.757056</td>\n",
       "      <td>2</td>\n",
       "      <td>1.457555</td>\n",
       "      <td>100000</td>\n",
       "      <td>36.424616</td>\n",
       "      <td>1801634</td>\n",
       "      <td>1.666956</td>\n",
       "      <td>[1.639,1.695]</td>\n",
       "      <td>...</td>\n",
       "      <td>0.22650</td>\n",
       "      <td>0.500601</td>\n",
       "      <td>0.798068</td>\n",
       "      <td>0.678998</td>\n",
       "      <td>0.00088</td>\n",
       "      <td>0.490713</td>\n",
       "      <td>0.130654</td>\n",
       "      <td>0.002638</td>\n",
       "      <td>0.33358</td>\n",
       "      <td>0.327498</td>\n",
       "    </tr>\n",
       "    <tr>\n",
       "      <th>25</th>\n",
       "      <td>25</td>\n",
       "      <td>0.6</td>\n",
       "      <td>0.757056</td>\n",
       "      <td>2</td>\n",
       "      <td>1.457555</td>\n",
       "      <td>100000</td>\n",
       "      <td>36.670379</td>\n",
       "      <td>1799564</td>\n",
       "      <td>1.690027</td>\n",
       "      <td>[1.664,1.716]</td>\n",
       "      <td>...</td>\n",
       "      <td>0.22651</td>\n",
       "      <td>0.502585</td>\n",
       "      <td>0.683591</td>\n",
       "      <td>0.679252</td>\n",
       "      <td>0.00106</td>\n",
       "      <td>0.513709</td>\n",
       "      <td>0.249116</td>\n",
       "      <td>0.003179</td>\n",
       "      <td>0.33347</td>\n",
       "      <td>0.294898</td>\n",
       "    </tr>\n",
       "    <tr>\n",
       "      <th>26</th>\n",
       "      <td>26</td>\n",
       "      <td>0.6</td>\n",
       "      <td>0.757056</td>\n",
       "      <td>2</td>\n",
       "      <td>1.457555</td>\n",
       "      <td>100000</td>\n",
       "      <td>36.774465</td>\n",
       "      <td>1805703</td>\n",
       "      <td>1.665510</td>\n",
       "      <td>[1.639,1.692]</td>\n",
       "      <td>...</td>\n",
       "      <td>0.22810</td>\n",
       "      <td>0.500065</td>\n",
       "      <td>0.753888</td>\n",
       "      <td>0.682240</td>\n",
       "      <td>0.00100</td>\n",
       "      <td>0.472475</td>\n",
       "      <td>0.135494</td>\n",
       "      <td>0.002991</td>\n",
       "      <td>0.33434</td>\n",
       "      <td>0.340700</td>\n",
       "    </tr>\n",
       "    <tr>\n",
       "      <th>27</th>\n",
       "      <td>27</td>\n",
       "      <td>0.6</td>\n",
       "      <td>0.757056</td>\n",
       "      <td>2</td>\n",
       "      <td>1.457555</td>\n",
       "      <td>100000</td>\n",
       "      <td>36.108155</td>\n",
       "      <td>1796526</td>\n",
       "      <td>1.694663</td>\n",
       "      <td>[1.659,1.731]</td>\n",
       "      <td>...</td>\n",
       "      <td>0.22604</td>\n",
       "      <td>0.496624</td>\n",
       "      <td>0.685386</td>\n",
       "      <td>0.678412</td>\n",
       "      <td>0.00096</td>\n",
       "      <td>0.474971</td>\n",
       "      <td>0.082997</td>\n",
       "      <td>0.002881</td>\n",
       "      <td>0.33319</td>\n",
       "      <td>0.299354</td>\n",
       "    </tr>\n",
       "    <tr>\n",
       "      <th>28</th>\n",
       "      <td>28</td>\n",
       "      <td>0.6</td>\n",
       "      <td>0.757056</td>\n",
       "      <td>2</td>\n",
       "      <td>1.457555</td>\n",
       "      <td>100000</td>\n",
       "      <td>36.551659</td>\n",
       "      <td>1809892</td>\n",
       "      <td>1.661205</td>\n",
       "      <td>[1.636,1.686]</td>\n",
       "      <td>...</td>\n",
       "      <td>0.22750</td>\n",
       "      <td>0.493474</td>\n",
       "      <td>0.610771</td>\n",
       "      <td>0.680954</td>\n",
       "      <td>0.00085</td>\n",
       "      <td>0.616734</td>\n",
       "      <td>0.243152</td>\n",
       "      <td>0.002544</td>\n",
       "      <td>0.33409</td>\n",
       "      <td>0.271617</td>\n",
       "    </tr>\n",
       "    <tr>\n",
       "      <th>29</th>\n",
       "      <td>29</td>\n",
       "      <td>0.6</td>\n",
       "      <td>0.757056</td>\n",
       "      <td>2</td>\n",
       "      <td>1.457555</td>\n",
       "      <td>100000</td>\n",
       "      <td>36.019064</td>\n",
       "      <td>1796099</td>\n",
       "      <td>1.671263</td>\n",
       "      <td>[1.645,1.697]</td>\n",
       "      <td>...</td>\n",
       "      <td>0.22741</td>\n",
       "      <td>0.500180</td>\n",
       "      <td>0.621845</td>\n",
       "      <td>0.682401</td>\n",
       "      <td>0.00071</td>\n",
       "      <td>0.533239</td>\n",
       "      <td>0.122536</td>\n",
       "      <td>0.002131</td>\n",
       "      <td>0.33325</td>\n",
       "      <td>0.281886</td>\n",
       "    </tr>\n",
       "    <tr>\n",
       "      <th>30</th>\n",
       "      <td>30</td>\n",
       "      <td>0.6</td>\n",
       "      <td>0.757056</td>\n",
       "      <td>2</td>\n",
       "      <td>1.457555</td>\n",
       "      <td>100000</td>\n",
       "      <td>36.410152</td>\n",
       "      <td>1805895</td>\n",
       "      <td>1.667875</td>\n",
       "      <td>[1.643,1.693]</td>\n",
       "      <td>...</td>\n",
       "      <td>0.22741</td>\n",
       "      <td>0.491027</td>\n",
       "      <td>0.591095</td>\n",
       "      <td>0.680827</td>\n",
       "      <td>0.00085</td>\n",
       "      <td>0.417531</td>\n",
       "      <td>0.071060</td>\n",
       "      <td>0.002545</td>\n",
       "      <td>0.33402</td>\n",
       "      <td>0.273041</td>\n",
       "    </tr>\n",
       "    <tr>\n",
       "      <th>31</th>\n",
       "      <td>31</td>\n",
       "      <td>0.6</td>\n",
       "      <td>0.757056</td>\n",
       "      <td>2</td>\n",
       "      <td>1.457555</td>\n",
       "      <td>100000</td>\n",
       "      <td>36.308911</td>\n",
       "      <td>1787524</td>\n",
       "      <td>1.694634</td>\n",
       "      <td>[1.666,1.723]</td>\n",
       "      <td>...</td>\n",
       "      <td>0.22724</td>\n",
       "      <td>0.513584</td>\n",
       "      <td>0.844790</td>\n",
       "      <td>0.682075</td>\n",
       "      <td>0.00097</td>\n",
       "      <td>0.418209</td>\n",
       "      <td>0.054511</td>\n",
       "      <td>0.002912</td>\n",
       "      <td>0.33316</td>\n",
       "      <td>0.357593</td>\n",
       "    </tr>\n",
       "    <tr>\n",
       "      <th>32</th>\n",
       "      <td>32</td>\n",
       "      <td>0.6</td>\n",
       "      <td>0.757056</td>\n",
       "      <td>2</td>\n",
       "      <td>1.457555</td>\n",
       "      <td>100000</td>\n",
       "      <td>38.575687</td>\n",
       "      <td>1783095</td>\n",
       "      <td>1.665273</td>\n",
       "      <td>[1.638,1.693]</td>\n",
       "      <td>...</td>\n",
       "      <td>0.22779</td>\n",
       "      <td>0.492207</td>\n",
       "      <td>0.612665</td>\n",
       "      <td>0.687315</td>\n",
       "      <td>0.00079</td>\n",
       "      <td>0.462919</td>\n",
       "      <td>0.103824</td>\n",
       "      <td>0.002384</td>\n",
       "      <td>0.33142</td>\n",
       "      <td>0.272147</td>\n",
       "    </tr>\n",
       "    <tr>\n",
       "      <th>33</th>\n",
       "      <td>33</td>\n",
       "      <td>0.6</td>\n",
       "      <td>0.757056</td>\n",
       "      <td>2</td>\n",
       "      <td>1.457555</td>\n",
       "      <td>100000</td>\n",
       "      <td>37.471547</td>\n",
       "      <td>1813520</td>\n",
       "      <td>1.675700</td>\n",
       "      <td>[1.65,1.701]</td>\n",
       "      <td>...</td>\n",
       "      <td>0.22903</td>\n",
       "      <td>0.499898</td>\n",
       "      <td>0.715541</td>\n",
       "      <td>0.682144</td>\n",
       "      <td>0.00098</td>\n",
       "      <td>0.506925</td>\n",
       "      <td>0.160881</td>\n",
       "      <td>0.002919</td>\n",
       "      <td>0.33575</td>\n",
       "      <td>0.300094</td>\n",
       "    </tr>\n",
       "    <tr>\n",
       "      <th>34</th>\n",
       "      <td>34</td>\n",
       "      <td>0.6</td>\n",
       "      <td>0.757056</td>\n",
       "      <td>2</td>\n",
       "      <td>1.457555</td>\n",
       "      <td>100000</td>\n",
       "      <td>37.241321</td>\n",
       "      <td>1803356</td>\n",
       "      <td>1.660435</td>\n",
       "      <td>[1.636,1.685]</td>\n",
       "      <td>...</td>\n",
       "      <td>0.22802</td>\n",
       "      <td>0.501855</td>\n",
       "      <td>0.751816</td>\n",
       "      <td>0.682164</td>\n",
       "      <td>0.00090</td>\n",
       "      <td>0.473453</td>\n",
       "      <td>0.122130</td>\n",
       "      <td>0.002693</td>\n",
       "      <td>0.33426</td>\n",
       "      <td>0.305068</td>\n",
       "    </tr>\n",
       "    <tr>\n",
       "      <th>35</th>\n",
       "      <td>35</td>\n",
       "      <td>0.6</td>\n",
       "      <td>0.757056</td>\n",
       "      <td>2</td>\n",
       "      <td>1.457555</td>\n",
       "      <td>100000</td>\n",
       "      <td>41.252534</td>\n",
       "      <td>1805982</td>\n",
       "      <td>1.663309</td>\n",
       "      <td>[1.636,1.69]</td>\n",
       "      <td>...</td>\n",
       "      <td>0.22914</td>\n",
       "      <td>0.499101</td>\n",
       "      <td>0.720985</td>\n",
       "      <td>0.685494</td>\n",
       "      <td>0.00086</td>\n",
       "      <td>0.504855</td>\n",
       "      <td>0.123980</td>\n",
       "      <td>0.002573</td>\n",
       "      <td>0.33427</td>\n",
       "      <td>0.294219</td>\n",
       "    </tr>\n",
       "    <tr>\n",
       "      <th>36</th>\n",
       "      <td>36</td>\n",
       "      <td>0.6</td>\n",
       "      <td>0.757056</td>\n",
       "      <td>2</td>\n",
       "      <td>1.457555</td>\n",
       "      <td>100000</td>\n",
       "      <td>39.235501</td>\n",
       "      <td>1798430</td>\n",
       "      <td>1.645562</td>\n",
       "      <td>[1.621,1.67]</td>\n",
       "      <td>...</td>\n",
       "      <td>0.22829</td>\n",
       "      <td>0.493331</td>\n",
       "      <td>0.617924</td>\n",
       "      <td>0.684959</td>\n",
       "      <td>0.00107</td>\n",
       "      <td>0.454559</td>\n",
       "      <td>0.106896</td>\n",
       "      <td>0.003210</td>\n",
       "      <td>0.33329</td>\n",
       "      <td>0.281787</td>\n",
       "    </tr>\n",
       "    <tr>\n",
       "      <th>37</th>\n",
       "      <td>37</td>\n",
       "      <td>0.6</td>\n",
       "      <td>0.757056</td>\n",
       "      <td>2</td>\n",
       "      <td>1.457555</td>\n",
       "      <td>100000</td>\n",
       "      <td>37.517455</td>\n",
       "      <td>1813945</td>\n",
       "      <td>1.661288</td>\n",
       "      <td>[1.636,1.686]</td>\n",
       "      <td>...</td>\n",
       "      <td>0.22865</td>\n",
       "      <td>0.492442</td>\n",
       "      <td>0.644184</td>\n",
       "      <td>0.680709</td>\n",
       "      <td>0.00095</td>\n",
       "      <td>0.433811</td>\n",
       "      <td>0.067813</td>\n",
       "      <td>0.002828</td>\n",
       "      <td>0.33590</td>\n",
       "      <td>0.290033</td>\n",
       "    </tr>\n",
       "    <tr>\n",
       "      <th>38</th>\n",
       "      <td>38</td>\n",
       "      <td>0.6</td>\n",
       "      <td>0.757056</td>\n",
       "      <td>2</td>\n",
       "      <td>1.457555</td>\n",
       "      <td>100000</td>\n",
       "      <td>43.387079</td>\n",
       "      <td>1791452</td>\n",
       "      <td>1.677901</td>\n",
       "      <td>[1.652,1.704]</td>\n",
       "      <td>...</td>\n",
       "      <td>0.22741</td>\n",
       "      <td>0.500732</td>\n",
       "      <td>0.868887</td>\n",
       "      <td>0.682053</td>\n",
       "      <td>0.00102</td>\n",
       "      <td>0.495411</td>\n",
       "      <td>0.119020</td>\n",
       "      <td>0.003059</td>\n",
       "      <td>0.33342</td>\n",
       "      <td>0.346542</td>\n",
       "    </tr>\n",
       "    <tr>\n",
       "      <th>39</th>\n",
       "      <td>39</td>\n",
       "      <td>0.6</td>\n",
       "      <td>0.757056</td>\n",
       "      <td>2</td>\n",
       "      <td>1.457555</td>\n",
       "      <td>100000</td>\n",
       "      <td>39.696478</td>\n",
       "      <td>1821256</td>\n",
       "      <td>1.650630</td>\n",
       "      <td>[1.623,1.678]</td>\n",
       "      <td>...</td>\n",
       "      <td>0.22821</td>\n",
       "      <td>0.504936</td>\n",
       "      <td>0.734684</td>\n",
       "      <td>0.681997</td>\n",
       "      <td>0.00098</td>\n",
       "      <td>0.556077</td>\n",
       "      <td>0.401694</td>\n",
       "      <td>0.002929</td>\n",
       "      <td>0.33462</td>\n",
       "      <td>0.307848</td>\n",
       "    </tr>\n",
       "    <tr>\n",
       "      <th>40</th>\n",
       "      <td>40</td>\n",
       "      <td>0.6</td>\n",
       "      <td>0.757056</td>\n",
       "      <td>2</td>\n",
       "      <td>1.457555</td>\n",
       "      <td>100000</td>\n",
       "      <td>37.919574</td>\n",
       "      <td>1790070</td>\n",
       "      <td>1.692211</td>\n",
       "      <td>[1.651,1.734]</td>\n",
       "      <td>...</td>\n",
       "      <td>0.22645</td>\n",
       "      <td>0.508276</td>\n",
       "      <td>0.765224</td>\n",
       "      <td>0.682880</td>\n",
       "      <td>0.00100</td>\n",
       "      <td>0.537437</td>\n",
       "      <td>0.188630</td>\n",
       "      <td>0.003016</td>\n",
       "      <td>0.33161</td>\n",
       "      <td>0.302459</td>\n",
       "    </tr>\n",
       "    <tr>\n",
       "      <th>41</th>\n",
       "      <td>41</td>\n",
       "      <td>0.6</td>\n",
       "      <td>0.757056</td>\n",
       "      <td>2</td>\n",
       "      <td>1.457555</td>\n",
       "      <td>100000</td>\n",
       "      <td>40.347550</td>\n",
       "      <td>1791452</td>\n",
       "      <td>1.642647</td>\n",
       "      <td>[1.619,1.666]</td>\n",
       "      <td>...</td>\n",
       "      <td>0.22616</td>\n",
       "      <td>0.493737</td>\n",
       "      <td>0.626325</td>\n",
       "      <td>0.675669</td>\n",
       "      <td>0.00104</td>\n",
       "      <td>0.580895</td>\n",
       "      <td>0.224953</td>\n",
       "      <td>0.003107</td>\n",
       "      <td>0.33472</td>\n",
       "      <td>0.281704</td>\n",
       "    </tr>\n",
       "    <tr>\n",
       "      <th>42</th>\n",
       "      <td>42</td>\n",
       "      <td>0.6</td>\n",
       "      <td>0.757056</td>\n",
       "      <td>2</td>\n",
       "      <td>1.457555</td>\n",
       "      <td>100000</td>\n",
       "      <td>40.720746</td>\n",
       "      <td>1813887</td>\n",
       "      <td>1.675226</td>\n",
       "      <td>[1.647,1.704]</td>\n",
       "      <td>...</td>\n",
       "      <td>0.22920</td>\n",
       "      <td>0.502460</td>\n",
       "      <td>0.730260</td>\n",
       "      <td>0.684813</td>\n",
       "      <td>0.00091</td>\n",
       "      <td>0.466829</td>\n",
       "      <td>0.096744</td>\n",
       "      <td>0.002719</td>\n",
       "      <td>0.33469</td>\n",
       "      <td>0.301786</td>\n",
       "    </tr>\n",
       "    <tr>\n",
       "      <th>43</th>\n",
       "      <td>43</td>\n",
       "      <td>0.6</td>\n",
       "      <td>0.757056</td>\n",
       "      <td>2</td>\n",
       "      <td>1.457555</td>\n",
       "      <td>100000</td>\n",
       "      <td>38.375406</td>\n",
       "      <td>1796181</td>\n",
       "      <td>1.672086</td>\n",
       "      <td>[1.648,1.697]</td>\n",
       "      <td>...</td>\n",
       "      <td>0.22711</td>\n",
       "      <td>0.498931</td>\n",
       "      <td>0.642527</td>\n",
       "      <td>0.684726</td>\n",
       "      <td>0.00093</td>\n",
       "      <td>0.491567</td>\n",
       "      <td>0.174799</td>\n",
       "      <td>0.002804</td>\n",
       "      <td>0.33168</td>\n",
       "      <td>0.281107</td>\n",
       "    </tr>\n",
       "    <tr>\n",
       "      <th>44</th>\n",
       "      <td>44</td>\n",
       "      <td>0.6</td>\n",
       "      <td>0.757056</td>\n",
       "      <td>2</td>\n",
       "      <td>1.457555</td>\n",
       "      <td>100000</td>\n",
       "      <td>37.888738</td>\n",
       "      <td>1799624</td>\n",
       "      <td>1.655507</td>\n",
       "      <td>[1.625,1.686]</td>\n",
       "      <td>...</td>\n",
       "      <td>0.22633</td>\n",
       "      <td>0.503651</td>\n",
       "      <td>0.717178</td>\n",
       "      <td>0.679038</td>\n",
       "      <td>0.00095</td>\n",
       "      <td>0.533488</td>\n",
       "      <td>0.363721</td>\n",
       "      <td>0.002850</td>\n",
       "      <td>0.33331</td>\n",
       "      <td>0.303605</td>\n",
       "    </tr>\n",
       "    <tr>\n",
       "      <th>45</th>\n",
       "      <td>45</td>\n",
       "      <td>0.6</td>\n",
       "      <td>0.757056</td>\n",
       "      <td>2</td>\n",
       "      <td>1.457555</td>\n",
       "      <td>100000</td>\n",
       "      <td>44.964628</td>\n",
       "      <td>1814104</td>\n",
       "      <td>1.676229</td>\n",
       "      <td>[1.65,1.702]</td>\n",
       "      <td>...</td>\n",
       "      <td>0.22846</td>\n",
       "      <td>0.499276</td>\n",
       "      <td>0.694992</td>\n",
       "      <td>0.681238</td>\n",
       "      <td>0.00077</td>\n",
       "      <td>0.631451</td>\n",
       "      <td>0.658123</td>\n",
       "      <td>0.002296</td>\n",
       "      <td>0.33536</td>\n",
       "      <td>0.309096</td>\n",
       "    </tr>\n",
       "    <tr>\n",
       "      <th>46</th>\n",
       "      <td>46</td>\n",
       "      <td>0.6</td>\n",
       "      <td>0.757056</td>\n",
       "      <td>2</td>\n",
       "      <td>1.457555</td>\n",
       "      <td>100000</td>\n",
       "      <td>48.027415</td>\n",
       "      <td>1806275</td>\n",
       "      <td>1.674065</td>\n",
       "      <td>[1.647,1.701]</td>\n",
       "      <td>...</td>\n",
       "      <td>0.22803</td>\n",
       "      <td>0.498146</td>\n",
       "      <td>0.697322</td>\n",
       "      <td>0.680829</td>\n",
       "      <td>0.00120</td>\n",
       "      <td>0.577197</td>\n",
       "      <td>0.280088</td>\n",
       "      <td>0.003583</td>\n",
       "      <td>0.33493</td>\n",
       "      <td>0.289437</td>\n",
       "    </tr>\n",
       "    <tr>\n",
       "      <th>47</th>\n",
       "      <td>47</td>\n",
       "      <td>0.6</td>\n",
       "      <td>0.757056</td>\n",
       "      <td>2</td>\n",
       "      <td>1.457555</td>\n",
       "      <td>100000</td>\n",
       "      <td>40.541465</td>\n",
       "      <td>1806571</td>\n",
       "      <td>1.677418</td>\n",
       "      <td>[1.649,1.706]</td>\n",
       "      <td>...</td>\n",
       "      <td>0.22786</td>\n",
       "      <td>0.500701</td>\n",
       "      <td>0.774324</td>\n",
       "      <td>0.683423</td>\n",
       "      <td>0.00097</td>\n",
       "      <td>0.570084</td>\n",
       "      <td>0.130218</td>\n",
       "      <td>0.002909</td>\n",
       "      <td>0.33341</td>\n",
       "      <td>0.313257</td>\n",
       "    </tr>\n",
       "    <tr>\n",
       "      <th>48</th>\n",
       "      <td>48</td>\n",
       "      <td>0.6</td>\n",
       "      <td>0.757056</td>\n",
       "      <td>2</td>\n",
       "      <td>1.457555</td>\n",
       "      <td>100000</td>\n",
       "      <td>38.960398</td>\n",
       "      <td>1807376</td>\n",
       "      <td>1.661846</td>\n",
       "      <td>[1.637,1.687]</td>\n",
       "      <td>...</td>\n",
       "      <td>0.23037</td>\n",
       "      <td>0.499303</td>\n",
       "      <td>0.628031</td>\n",
       "      <td>0.686524</td>\n",
       "      <td>0.00086</td>\n",
       "      <td>0.516434</td>\n",
       "      <td>0.200955</td>\n",
       "      <td>0.002563</td>\n",
       "      <td>0.33556</td>\n",
       "      <td>0.270891</td>\n",
       "    </tr>\n",
       "    <tr>\n",
       "      <th>49</th>\n",
       "      <td>49</td>\n",
       "      <td>0.6</td>\n",
       "      <td>0.757056</td>\n",
       "      <td>2</td>\n",
       "      <td>1.457555</td>\n",
       "      <td>100000</td>\n",
       "      <td>36.556139</td>\n",
       "      <td>1803369</td>\n",
       "      <td>1.654179</td>\n",
       "      <td>[1.63,1.679]</td>\n",
       "      <td>...</td>\n",
       "      <td>0.22758</td>\n",
       "      <td>0.494813</td>\n",
       "      <td>0.634692</td>\n",
       "      <td>0.681092</td>\n",
       "      <td>0.00090</td>\n",
       "      <td>0.489851</td>\n",
       "      <td>0.210075</td>\n",
       "      <td>0.002693</td>\n",
       "      <td>0.33414</td>\n",
       "      <td>0.270395</td>\n",
       "    </tr>\n",
       "  </tbody>\n",
       "</table>\n",
       "<p>50 rows × 305 columns</p>\n",
       "</div>"
      ],
      "text/plain": [
       "    0    1         2    3         4       5          6        7         8              9    ...      295       296       297       298      299       300       301       302      303       304\n",
       "0     0  0.6  0.757056    2  1.457555  100000  29.108651  1819461  1.662982  [1.635,1.691]  ...  0.22810  0.491864  0.679790  0.677317  0.00078  0.533982  0.222383  0.002316  0.33677  0.290571\n",
       "1     1  0.6  0.757056    2  1.457555  100000  34.913426  1812566  1.644043  [1.619,1.669]  ...  0.22841  0.500228  0.733543  0.680906  0.00091  0.511452  0.197839  0.002713  0.33545  0.296525\n",
       "2     2  0.6  0.757056    2  1.457555  100000  35.208951  1808790  1.679207  [1.652,1.706]  ...  0.22823  0.499747  0.687108  0.682751  0.00096  0.589867  0.321726  0.002872  0.33428  0.312477\n",
       "3     3  0.6  0.757056    2  1.457555  100000  35.156116  1804203  1.671269  [1.645,1.698]  ...  0.22808  0.490578  0.598408  0.685625  0.00085  0.595380  0.238272  0.002555  0.33266  0.282476\n",
       "4     4  0.6  0.757056    2  1.457555  100000  35.544403  1800811  1.683032  [1.654,1.712]  ...  0.22800  0.496932  0.721487  0.682043  0.00091  0.508545  0.289435  0.002722  0.33429  0.302465\n",
       "5     5  0.6  0.757056    2  1.457555  100000  35.221129  1799597  1.672942  [1.644,1.702]  ...  0.22728  0.498428  0.718113  0.681540  0.00088  0.594419  0.205939  0.002639  0.33348  0.303946\n",
       "6     6  0.6  0.757056    2  1.457555  100000  35.370415  1797066  1.668780  [1.644,1.694]  ...  0.22657  0.503509  0.699856  0.678963  0.00091  0.555648  0.267999  0.002727  0.33370  0.301353\n",
       "7     7  0.6  0.757056    2  1.457555  100000  38.298417  1808522  1.663185  [1.637,1.689]  ...  0.22893  0.500122  0.722790  0.682090  0.00105  0.510556  0.221924  0.003128  0.33563  0.298527\n",
       "8     8  0.6  0.757056    2  1.457555  100000  40.791520  1819008  1.658004  [1.632,1.684]  ...  0.23024  0.494642  0.610010  0.687202  0.00084  0.444793  0.100497  0.002507  0.33504  0.272222\n",
       "9     9  0.6  0.757056    2  1.457555  100000  38.209039  1803517  1.657229  [1.631,1.683]  ...  0.23052  0.496102  0.622067  0.682597  0.00104  0.471720  0.110473  0.003080  0.33771  0.299070\n",
       "10   10  0.6  0.757056    2  1.457555  100000  36.871944  1818225  1.655854  [1.631,1.681]  ...  0.22924  0.490942  0.629069  0.681248  0.00083  0.531254  0.362709  0.002467  0.33650  0.277310\n",
       "11   11  0.6  0.757056    2  1.457555  100000  39.749522  1813967  1.675464  [1.647,1.704]  ...  0.22974  0.498404  0.691072  0.686037  0.00092  0.538798  0.203102  0.002747  0.33488  0.278305\n",
       "12   12  0.6  0.757056    2  1.457555  100000  40.816828  1828456  1.671832  [1.646,1.697]  ...  0.22913  0.503441  0.786338  0.678743  0.00083  0.582698  0.276419  0.002459  0.33758  0.315127\n",
       "13   13  0.6  0.757056    2  1.457555  100000  39.405542  1809435  1.677912  [1.653,1.703]  ...  0.22821  0.492295  0.664624  0.681021  0.00087  0.568054  0.244127  0.002596  0.33510  0.280540\n",
       "14   14  0.6  0.757056    2  1.457555  100000  38.941230  1807118  1.672095  [1.645,1.699]  ...  0.22843  0.498294  0.822063  0.682064  0.00070  0.569767  0.209896  0.002090  0.33491  0.325687\n",
       "15   15  0.6  0.757056    2  1.457555  100000  38.537451  1816474  1.667119  [1.633,1.701]  ...  0.22914  0.493367  0.594697  0.684429  0.00091  0.545440  0.167480  0.002718  0.33479  0.284739\n",
       "16   16  0.6  0.757056    2  1.457555  100000  38.055708  1792023  1.691173   [1.66,1.723]  ...  0.22680  0.490602  0.826628  0.681470  0.00096  0.490651  0.154380  0.002885  0.33281  0.327784\n",
       "17   17  0.6  0.757056    2  1.457555  100000  40.814459  1796690  1.687207  [1.659,1.716]  ...  0.22772  0.492969  0.628515  0.680452  0.00092  0.542652  0.242184  0.002749  0.33466  0.281607\n",
       "18   18  0.6  0.757056    2  1.457555  100000  37.120757  1795762  1.663601  [1.638,1.689]  ...  0.22849  0.498155  0.675262  0.680070  0.00086  0.480173  0.108373  0.002560  0.33598  0.301389\n",
       "19   19  0.6  0.757056    2  1.457555  100000  38.188895  1824966  1.661454  [1.636,1.687]  ...  0.22827  0.503861  0.640961  0.681281  0.00092  0.476767  0.167038  0.002746  0.33506  0.293603\n",
       "20   20  0.6  0.757056    2  1.457555  100000  37.759325  1801677  1.696544  [1.659,1.734]  ...  0.22787  0.505038  0.800524  0.680656  0.00093  0.466821  0.132501  0.002778  0.33478  0.320834\n",
       "21   21  0.6  0.757056    2  1.457555  100000  36.751245  1789208  1.677570  [1.649,1.706]  ...  0.22747  0.500092  0.755439  0.684141  0.00083  0.551239  0.169821  0.002496  0.33249  0.313144\n",
       "22   22  0.6  0.757056    2  1.457555  100000  36.693207  1806344  1.684393  [1.657,1.712]  ...  0.22843  0.503141  0.721833  0.680621  0.00088  0.585727  0.403385  0.002622  0.33562  0.293753\n",
       "23   23  0.6  0.757056    2  1.457555  100000  36.379803  1798494  1.680464  [1.648,1.713]  ...  0.22630  0.489889  0.636694  0.680520  0.00095  0.491994  0.131924  0.002857  0.33254  0.279059\n",
       "24   24  0.6  0.757056    2  1.457555  100000  36.424616  1801634  1.666956  [1.639,1.695]  ...  0.22650  0.500601  0.798068  0.678998  0.00088  0.490713  0.130654  0.002638  0.33358  0.327498\n",
       "25   25  0.6  0.757056    2  1.457555  100000  36.670379  1799564  1.690027  [1.664,1.716]  ...  0.22651  0.502585  0.683591  0.679252  0.00106  0.513709  0.249116  0.003179  0.33347  0.294898\n",
       "26   26  0.6  0.757056    2  1.457555  100000  36.774465  1805703  1.665510  [1.639,1.692]  ...  0.22810  0.500065  0.753888  0.682240  0.00100  0.472475  0.135494  0.002991  0.33434  0.340700\n",
       "27   27  0.6  0.757056    2  1.457555  100000  36.108155  1796526  1.694663  [1.659,1.731]  ...  0.22604  0.496624  0.685386  0.678412  0.00096  0.474971  0.082997  0.002881  0.33319  0.299354\n",
       "28   28  0.6  0.757056    2  1.457555  100000  36.551659  1809892  1.661205  [1.636,1.686]  ...  0.22750  0.493474  0.610771  0.680954  0.00085  0.616734  0.243152  0.002544  0.33409  0.271617\n",
       "29   29  0.6  0.757056    2  1.457555  100000  36.019064  1796099  1.671263  [1.645,1.697]  ...  0.22741  0.500180  0.621845  0.682401  0.00071  0.533239  0.122536  0.002131  0.33325  0.281886\n",
       "30   30  0.6  0.757056    2  1.457555  100000  36.410152  1805895  1.667875  [1.643,1.693]  ...  0.22741  0.491027  0.591095  0.680827  0.00085  0.417531  0.071060  0.002545  0.33402  0.273041\n",
       "31   31  0.6  0.757056    2  1.457555  100000  36.308911  1787524  1.694634  [1.666,1.723]  ...  0.22724  0.513584  0.844790  0.682075  0.00097  0.418209  0.054511  0.002912  0.33316  0.357593\n",
       "32   32  0.6  0.757056    2  1.457555  100000  38.575687  1783095  1.665273  [1.638,1.693]  ...  0.22779  0.492207  0.612665  0.687315  0.00079  0.462919  0.103824  0.002384  0.33142  0.272147\n",
       "33   33  0.6  0.757056    2  1.457555  100000  37.471547  1813520  1.675700   [1.65,1.701]  ...  0.22903  0.499898  0.715541  0.682144  0.00098  0.506925  0.160881  0.002919  0.33575  0.300094\n",
       "34   34  0.6  0.757056    2  1.457555  100000  37.241321  1803356  1.660435  [1.636,1.685]  ...  0.22802  0.501855  0.751816  0.682164  0.00090  0.473453  0.122130  0.002693  0.33426  0.305068\n",
       "35   35  0.6  0.757056    2  1.457555  100000  41.252534  1805982  1.663309   [1.636,1.69]  ...  0.22914  0.499101  0.720985  0.685494  0.00086  0.504855  0.123980  0.002573  0.33427  0.294219\n",
       "36   36  0.6  0.757056    2  1.457555  100000  39.235501  1798430  1.645562   [1.621,1.67]  ...  0.22829  0.493331  0.617924  0.684959  0.00107  0.454559  0.106896  0.003210  0.33329  0.281787\n",
       "37   37  0.6  0.757056    2  1.457555  100000  37.517455  1813945  1.661288  [1.636,1.686]  ...  0.22865  0.492442  0.644184  0.680709  0.00095  0.433811  0.067813  0.002828  0.33590  0.290033\n",
       "38   38  0.6  0.757056    2  1.457555  100000  43.387079  1791452  1.677901  [1.652,1.704]  ...  0.22741  0.500732  0.868887  0.682053  0.00102  0.495411  0.119020  0.003059  0.33342  0.346542\n",
       "39   39  0.6  0.757056    2  1.457555  100000  39.696478  1821256  1.650630  [1.623,1.678]  ...  0.22821  0.504936  0.734684  0.681997  0.00098  0.556077  0.401694  0.002929  0.33462  0.307848\n",
       "40   40  0.6  0.757056    2  1.457555  100000  37.919574  1790070  1.692211  [1.651,1.734]  ...  0.22645  0.508276  0.765224  0.682880  0.00100  0.537437  0.188630  0.003016  0.33161  0.302459\n",
       "41   41  0.6  0.757056    2  1.457555  100000  40.347550  1791452  1.642647  [1.619,1.666]  ...  0.22616  0.493737  0.626325  0.675669  0.00104  0.580895  0.224953  0.003107  0.33472  0.281704\n",
       "42   42  0.6  0.757056    2  1.457555  100000  40.720746  1813887  1.675226  [1.647,1.704]  ...  0.22920  0.502460  0.730260  0.684813  0.00091  0.466829  0.096744  0.002719  0.33469  0.301786\n",
       "43   43  0.6  0.757056    2  1.457555  100000  38.375406  1796181  1.672086  [1.648,1.697]  ...  0.22711  0.498931  0.642527  0.684726  0.00093  0.491567  0.174799  0.002804  0.33168  0.281107\n",
       "44   44  0.6  0.757056    2  1.457555  100000  37.888738  1799624  1.655507  [1.625,1.686]  ...  0.22633  0.503651  0.717178  0.679038  0.00095  0.533488  0.363721  0.002850  0.33331  0.303605\n",
       "45   45  0.6  0.757056    2  1.457555  100000  44.964628  1814104  1.676229   [1.65,1.702]  ...  0.22846  0.499276  0.694992  0.681238  0.00077  0.631451  0.658123  0.002296  0.33536  0.309096\n",
       "46   46  0.6  0.757056    2  1.457555  100000  48.027415  1806275  1.674065  [1.647,1.701]  ...  0.22803  0.498146  0.697322  0.680829  0.00120  0.577197  0.280088  0.003583  0.33493  0.289437\n",
       "47   47  0.6  0.757056    2  1.457555  100000  40.541465  1806571  1.677418  [1.649,1.706]  ...  0.22786  0.500701  0.774324  0.683423  0.00097  0.570084  0.130218  0.002909  0.33341  0.313257\n",
       "48   48  0.6  0.757056    2  1.457555  100000  38.960398  1807376  1.661846  [1.637,1.687]  ...  0.23037  0.499303  0.628031  0.686524  0.00086  0.516434  0.200955  0.002563  0.33556  0.270891\n",
       "49   49  0.6  0.757056    2  1.457555  100000  36.556139  1803369  1.654179   [1.63,1.679]  ...  0.22758  0.494813  0.634692  0.681092  0.00090  0.489851  0.210075  0.002693  0.33414  0.270395\n",
       "\n",
       "[50 rows x 305 columns]"
      ]
     },
     "execution_count": 33,
     "metadata": {},
     "output_type": "execute_result"
    }
   ],
   "source": [
    "data = pd.read_csv(\"./result/2_unbias_check/temp_t1_iter50_policy1.csv\", header=None,skiprows=[0])\n",
    "data"
   ]
  },
  {
   "cell_type": "code",
   "execution_count": 34,
   "metadata": {},
   "outputs": [
    {
     "data": {
      "text/plain": [
       "0.13815161010000002"
      ]
     },
     "execution_count": 34,
     "metadata": {},
     "output_type": "execute_result"
    },
    {
     "data": {
      "text/plain": [
       "0.13586600000000001"
      ]
     },
     "execution_count": 34,
     "metadata": {},
     "output_type": "execute_result"
    },
    {
     "data": {
      "text/plain": [
       "0.14044"
      ]
     },
     "execution_count": 34,
     "metadata": {},
     "output_type": "execute_result"
    }
   ],
   "source": [
    "mean = data[22].mean()\n",
    "lower, upper = data[23].apply(lambda x : eval(x)[0]), data[23].apply(lambda x : eval(x)[1])\n",
    "lower_CI, upper_CI = lower.mean(), upper.mean()\n",
    "mean\n",
    "lower_CI\n",
    "upper_CI"
   ]
  },
  {
   "cell_type": "code",
   "execution_count": 35,
   "metadata": {},
   "outputs": [
    {
     "data": {
      "text/plain": [
       "0.04882982104000002"
      ]
     },
     "execution_count": 35,
     "metadata": {},
     "output_type": "execute_result"
    },
    {
     "data": {
      "text/plain": [
       "0.04771500000000001"
      ]
     },
     "execution_count": 35,
     "metadata": {},
     "output_type": "execute_result"
    },
    {
     "data": {
      "text/plain": [
       "0.04994460000000001"
      ]
     },
     "execution_count": 35,
     "metadata": {},
     "output_type": "execute_result"
    }
   ],
   "source": [
    "mean = data[50].mean()\n",
    "lower, upper = data[51].apply(lambda x : eval(x)[0]), data[51].apply(lambda x : eval(x)[1])\n",
    "lower_CI, upper_CI = lower.mean(), upper.mean()\n",
    "mean\n",
    "lower_CI\n",
    "upper_CI"
   ]
  },
  {
   "cell_type": "code",
   "execution_count": 36,
   "metadata": {},
   "outputs": [
    {
     "data": {
      "text/plain": [
       "0.12821282098"
      ]
     },
     "execution_count": 36,
     "metadata": {},
     "output_type": "execute_result"
    },
    {
     "data": {
      "text/plain": [
       "0.12613000000000002"
      ]
     },
     "execution_count": 36,
     "metadata": {},
     "output_type": "execute_result"
    },
    {
     "data": {
      "text/plain": [
       "0.13030199999999997"
      ]
     },
     "execution_count": 36,
     "metadata": {},
     "output_type": "execute_result"
    }
   ],
   "source": [
    "mean = data[98].mean()\n",
    "lower, upper = data[99].apply(lambda x : eval(x)[0]), data[99].apply(lambda x : eval(x)[1])\n",
    "lower_CI, upper_CI = lower.mean(), upper.mean()\n",
    "mean\n",
    "lower_CI\n",
    "upper_CI"
   ]
  },
  {
   "cell_type": "code",
   "execution_count": 37,
   "metadata": {},
   "outputs": [
    {
     "data": {
      "text/plain": [
       "0.08244167776"
      ]
     },
     "execution_count": 37,
     "metadata": {},
     "output_type": "execute_result"
    },
    {
     "data": {
      "text/plain": [
       "0.0809764"
      ]
     },
     "execution_count": 37,
     "metadata": {},
     "output_type": "execute_result"
    },
    {
     "data": {
      "text/plain": [
       "0.08390680000000002"
      ]
     },
     "execution_count": 37,
     "metadata": {},
     "output_type": "execute_result"
    }
   ],
   "source": [
    "mean = data[126].mean()\n",
    "lower, upper = data[127].apply(lambda x : eval(x)[0]), data[127].apply(lambda x : eval(x)[1])\n",
    "lower_CI, upper_CI = lower.mean(), upper.mean()\n",
    "mean\n",
    "lower_CI\n",
    "upper_CI"
   ]
  },
  {
   "cell_type": "code",
   "execution_count": 38,
   "metadata": {},
   "outputs": [
    {
     "data": {
      "text/plain": [
       "0.18036646152000002"
      ]
     },
     "execution_count": 38,
     "metadata": {},
     "output_type": "execute_result"
    },
    {
     "data": {
      "text/plain": [
       "0.177152"
      ]
     },
     "execution_count": 38,
     "metadata": {},
     "output_type": "execute_result"
    },
    {
     "data": {
      "text/plain": [
       "0.183584"
      ]
     },
     "execution_count": 38,
     "metadata": {},
     "output_type": "execute_result"
    }
   ],
   "source": [
    "mean = data[174].mean()\n",
    "lower, upper = data[175].apply(lambda x : eval(x)[0]), data[175].apply(lambda x : eval(x)[1])\n",
    "lower_CI, upper_CI = lower.mean(), upper.mean()\n",
    "mean\n",
    "lower_CI\n",
    "upper_CI"
   ]
  },
  {
   "cell_type": "code",
   "execution_count": 39,
   "metadata": {},
   "outputs": [
    {
     "data": {
      "text/plain": [
       "0.13630755494"
      ]
     },
     "execution_count": 39,
     "metadata": {},
     "output_type": "execute_result"
    },
    {
     "data": {
      "text/plain": [
       "0.133726"
      ]
     },
     "execution_count": 39,
     "metadata": {},
     "output_type": "execute_result"
    },
    {
     "data": {
      "text/plain": [
       "0.13889400000000002"
      ]
     },
     "execution_count": 39,
     "metadata": {},
     "output_type": "execute_result"
    }
   ],
   "source": [
    "mean = data[202].mean()\n",
    "lower, upper = data[203].apply(lambda x : eval(x)[0]), data[203].apply(lambda x : eval(x)[1])\n",
    "lower_CI, upper_CI = lower.mean(), upper.mean()\n",
    "mean\n",
    "lower_CI\n",
    "upper_CI"
   ]
  },
  {
   "cell_type": "code",
   "execution_count": 40,
   "metadata": {},
   "outputs": [
    {
     "data": {
      "text/plain": [
       "0.21625822012"
      ]
     },
     "execution_count": 40,
     "metadata": {},
     "output_type": "execute_result"
    },
    {
     "data": {
      "text/plain": [
       "0.21242999999999998"
      ]
     },
     "execution_count": 40,
     "metadata": {},
     "output_type": "execute_result"
    },
    {
     "data": {
      "text/plain": [
       "0.22008799999999998"
      ]
     },
     "execution_count": 40,
     "metadata": {},
     "output_type": "execute_result"
    }
   ],
   "source": [
    "mean = data[250].mean()\n",
    "lower, upper = data[251].apply(lambda x : eval(x)[0]), data[251].apply(lambda x : eval(x)[1])\n",
    "lower_CI, upper_CI = lower.mean(), upper.mean()\n",
    "mean\n",
    "lower_CI\n",
    "upper_CI"
   ]
  },
  {
   "cell_type": "code",
   "execution_count": 41,
   "metadata": {},
   "outputs": [
    {
     "data": {
      "text/plain": [
       "0.17811018112000002"
      ]
     },
     "execution_count": 41,
     "metadata": {},
     "output_type": "execute_result"
    },
    {
     "data": {
      "text/plain": [
       "0.17472800000000002"
      ]
     },
     "execution_count": 41,
     "metadata": {},
     "output_type": "execute_result"
    },
    {
     "data": {
      "text/plain": [
       "0.18149799999999996"
      ]
     },
     "execution_count": 41,
     "metadata": {},
     "output_type": "execute_result"
    }
   ],
   "source": [
    "mean = data[278].mean()\n",
    "lower, upper = data[279].apply(lambda x : eval(x)[0]), data[279].apply(lambda x : eval(x)[1])\n",
    "lower_CI, upper_CI = lower.mean(), upper.mean()\n",
    "mean\n",
    "lower_CI\n",
    "upper_CI"
   ]
  },
  {
   "cell_type": "code",
   "execution_count": null,
   "metadata": {},
   "outputs": [],
   "source": []
  },
  {
   "cell_type": "code",
   "execution_count": null,
   "metadata": {},
   "outputs": [],
   "source": []
  },
  {
   "cell_type": "code",
   "execution_count": null,
   "metadata": {},
   "outputs": [],
   "source": []
  },
  {
   "cell_type": "code",
   "execution_count": null,
   "metadata": {},
   "outputs": [],
   "source": []
  },
  {
   "cell_type": "code",
   "execution_count": null,
   "metadata": {},
   "outputs": [],
   "source": []
  },
  {
   "cell_type": "code",
   "execution_count": 24,
   "metadata": {},
   "outputs": [
    {
     "data": {
      "text/plain": [
       "0.9615384615384616"
      ]
     },
     "execution_count": 24,
     "metadata": {},
     "output_type": "execute_result"
    }
   ],
   "source": [
    "contain_pct = ((data[22] < upper_CI) & (data[22] > lower_CI)).sum() / data.shape[0]\n",
    "contain_pct"
   ]
  },
  {
   "cell_type": "code",
   "execution_count": 28,
   "metadata": {},
   "outputs": [
    {
     "data": {
      "text/plain": [
       "1.0"
      ]
     },
     "execution_count": 28,
     "metadata": {},
     "output_type": "execute_result"
    }
   ],
   "source": [
    "overlap_pct = ((lower < upper_CI) & (upper > lower_CI)).sum()/data.shape[0]\n",
    "overlap_pct"
   ]
  },
  {
   "cell_type": "code",
   "execution_count": 14,
   "metadata": {},
   "outputs": [
    {
     "data": {
      "text/plain": [
       "0     0.1853\n",
       "1     0.1809\n",
       "2     0.1855\n",
       "3     0.1796\n",
       "4     0.1867\n",
       "5     0.1908\n",
       "6     0.1832\n",
       "7     0.1840\n",
       "8     0.1791\n",
       "9     0.1817\n",
       "10    0.1793\n",
       "11    0.1848\n",
       "12    0.1711\n",
       "13    0.1835\n",
       "14    0.1865\n",
       "15    0.1928\n",
       "16    0.1791\n",
       "17    0.1759\n",
       "18    0.1878\n",
       "19    0.1768\n",
       "20    0.1783\n",
       "21    0.1853\n",
       "22    0.1814\n",
       "23    0.1848\n",
       "24    0.1823\n",
       "25    0.1780\n",
       "Name: 23, dtype: float64"
      ]
     },
     "execution_count": 14,
     "metadata": {},
     "output_type": "execute_result"
    }
   ],
   "source": [
    "data[23].apply(lambda x : eval(x)[0])"
   ]
  },
  {
   "cell_type": "code",
   "execution_count": 5,
   "metadata": {},
   "outputs": [
    {
     "data": {
      "text/plain": [
       "array([[0.6, 0.6],\n",
       "       [0.2, 0.2],\n",
       "       [0.2, 0.2],\n",
       "       [0.2, 0.2]])"
      ]
     },
     "execution_count": 5,
     "metadata": {},
     "output_type": "execute_result"
    },
    {
     "data": {
      "text/plain": [
       "array([[2., 2.],\n",
       "       [1., 1.],\n",
       "       [2., 2.],\n",
       "       [2., 2.]])"
      ]
     },
     "execution_count": 5,
     "metadata": {},
     "output_type": "execute_result"
    }
   ],
   "source": [
    "phase = 0\n",
    "\n",
    "lam_ref = np.array([[0.6],[0.2], [0.2], [0.2]], dtype=float)\n",
    "mu_ref = np.array([[2],[1], [2], [2]], dtype=float)\n",
    "lam = lam_ref[:, [0, phase]].copy()\n",
    "mu = mu_ref[:, [0, phase]].copy()\n",
    "lam\n",
    "mu"
   ]
  },
  {
   "cell_type": "code",
   "execution_count": 4,
   "metadata": {},
   "outputs": [
    {
     "data": {
      "text/plain": [
       "array([[0.6, 0.6],\n",
       "       [0.2, 0.2]])"
      ]
     },
     "execution_count": 4,
     "metadata": {},
     "output_type": "execute_result"
    },
    {
     "data": {
      "text/plain": [
       "array([[2., 2.],\n",
       "       [1., 1.]])"
      ]
     },
     "execution_count": 4,
     "metadata": {},
     "output_type": "execute_result"
    },
    {
     "data": {
      "text/plain": [
       "array([[0.6],\n",
       "       [0.2]])"
      ]
     },
     "execution_count": 4,
     "metadata": {},
     "output_type": "execute_result"
    }
   ],
   "source": [
    "phase = 0\n",
    "lam_ref = np.array([[0.6],[0.2]], dtype=float)\n",
    "mu_ref = np.array([[2],[1]], dtype=float)\n",
    "lam = lam_ref[:, [0, phase]].copy()\n",
    "mu = mu_ref[:, [0, phase]].copy()\n",
    "lam\n",
    "mu\n",
    "lam_ref"
   ]
  },
  {
   "cell_type": "code",
   "execution_count": 47,
   "metadata": {},
   "outputs": [
    {
     "data": {
      "text/plain": [
       "1.0"
      ]
     },
     "execution_count": 47,
     "metadata": {},
     "output_type": "execute_result"
    }
   ],
   "source": [
    "a = np.array([0.6, 0.2, 0.2])\n",
    "1-a[:0].sum()"
   ]
  },
  {
   "cell_type": "code",
   "execution_count": 50,
   "metadata": {},
   "outputs": [
    {
     "name": "stdout",
     "output_type": "stream",
     "text": [
      "printfffff 0\n"
     ]
    }
   ],
   "source": [
    "type = 0\n",
    "print(f'printfffff {type}')\n"
   ]
  },
  {
   "cell_type": "code",
   "execution_count": 37,
   "metadata": {},
   "outputs": [
    {
     "data": {
      "text/plain": [
       "array([0.6, 0.2, 0.2])"
      ]
     },
     "execution_count": 37,
     "metadata": {},
     "output_type": "execute_result"
    }
   ],
   "source": [
    "a = [0.6, 0.2, 0.2]\n",
    "b = [0.8333, 0.4666, 0.4666]\n",
    "c = np.array(list(zip(a, b)))\n",
    "mu_each = c[:,0]\n",
    "mu_each"
   ]
  },
  {
   "cell_type": "code",
   "execution_count": 4,
   "metadata": {},
   "outputs": [
    {
     "name": "stdout",
     "output_type": "stream",
     "text": [
      "0 5\n",
      "0 5\n",
      "1 10\n"
     ]
    }
   ],
   "source": [
    "num_type = 2\n",
    "threshold = [[5], [5, 10]]\n",
    "\n",
    "for flow in range(num_type):\n",
    "    for idx, gamma in enumerate(threshold[flow]):\n",
    "        print(idx, gamma)\n"
   ]
  },
  {
   "cell_type": "code",
   "execution_count": null,
   "metadata": {},
   "outputs": [],
   "source": [
    "[np.zeros(len(threshold[i])) for i in range(num_type)]"
   ]
  },
  {
   "cell_type": "code",
   "execution_count": 29,
   "metadata": {},
   "outputs": [
    {
     "name": "stdout",
     "output_type": "stream",
     "text": [
      "[0.00000000e+00 2.06984417e-05 1.20053300e-02]\n"
     ]
    }
   ],
   "source": [
    "flow_id = 0\n",
    "cycle_sum_probs = ([np.array([0.]), np.array([0., 0.])],[np.array([2.06984417e-05]), np.array([9.75310188e-06, 9.75310188e-06])],[np.array([0.01200533]), np.array([0.00197793, 0.00180436])])\n",
    "for i, gamma in enumerate(threshold[flow_id]):\n",
    "    print(np.array([cycle_sum_prob[flow_id][i] for cycle_sum_prob in cycle_sum_probs]))"
   ]
  },
  {
   "cell_type": "code",
   "execution_count": 30,
   "metadata": {},
   "outputs": [
    {
     "name": "stdout",
     "output_type": "stream",
     "text": [
      "[0.00000000e+00 9.75310188e-06 1.97793000e-03]\n",
      "[0.00000000e+00 9.75310188e-06 1.80436000e-03]\n"
     ]
    }
   ],
   "source": [
    "flow_id = 1\n",
    "cycle_sum_probs = ([np.array([0.]), np.array([0., 0.])],[np.array([2.06984417e-05]), np.array([9.75310188e-06, 9.75310188e-06])],[np.array([0.01200533]), np.array([0.00197793, 0.00180436])])\n",
    "for i, gamma in enumerate(threshold[flow_id]):\n",
    "    print(np.array([cycle_sum_prob[flow_id][i] for cycle_sum_prob in cycle_sum_probs]))"
   ]
  },
  {
   "cell_type": "code",
   "execution_count": 32,
   "metadata": {},
   "outputs": [
    {
     "data": {
      "text/plain": [
       "array([ 1, -1,  1, -1])"
      ]
     },
     "execution_count": 32,
     "metadata": {},
     "output_type": "execute_result"
    },
    {
     "data": {
      "text/plain": [
       "array([ 0, -1,  0, -1])"
      ]
     },
     "execution_count": 32,
     "metadata": {},
     "output_type": "execute_result"
    }
   ],
   "source": [
    "reasons = ([np.array([1, 1]), np.array([0, 0])], [np.array([ 1, -1]), np.array([-1, -1])], [np.array([1, 1]), np.array([0, 0])], [np.array([ 1, -1]), np.array([ 0, -1])])\n",
    "freq = np.array([reason[0][i] for reason in reasons])\n",
    "freq\n",
    "np.array([reason[1][i] for reason in reasons])"
   ]
  },
  {
   "cell_type": "code",
   "execution_count": 8,
   "metadata": {},
   "outputs": [
    {
     "data": {
      "text/plain": [
       "array([[0.6   , 0.8333],\n",
       "       [0.2   , 0.4666]])"
      ]
     },
     "execution_count": 8,
     "metadata": {},
     "output_type": "execute_result"
    }
   ],
   "source": [
    "lam = np.array([[0.6, 0.8333],\n",
    "                [0.2, 0.4666]])\n",
    "lam[:, 0]\n",
    "mu = np.array([[   2,    1.2],\n",
    "               [   1,    0.2]])\n",
    "lam"
   ]
  },
  {
   "cell_type": "code",
   "execution_count": 56,
   "metadata": {},
   "outputs": [
    {
     "data": {
      "text/plain": [
       "{0: 0, 1: -1, 2: -2}"
      ]
     },
     "execution_count": 56,
     "metadata": {},
     "output_type": "execute_result"
    }
   ],
   "source": [
    "num_type = 3\n",
    "dict(zip(range(num_type), -np.array(range(num_type))))"
   ]
  },
  {
   "cell_type": "code",
   "execution_count": 58,
   "metadata": {},
   "outputs": [
    {
     "data": {
      "text/plain": [
       "[4, 6, 7]"
      ]
     },
     "execution_count": 58,
     "metadata": {},
     "output_type": "execute_result"
    },
    {
     "data": {
      "text/plain": [
       "[array([-1, -1]), array([-1, -1]), array([-1, -1])]"
      ]
     },
     "execution_count": 58,
     "metadata": {},
     "output_type": "execute_result"
    }
   ],
   "source": [
    "gamma = [[2, 4], [3, 6], [5, 7]]\n",
    "[max(gamma[i]) for i in range(num_type)] \n",
    "[np.full(len(gamma[i]), -1) for i in range(num_type)]"
   ]
  },
  {
   "cell_type": "code",
   "execution_count": 12,
   "metadata": {},
   "outputs": [
    {
     "data": {
      "text/plain": [
       "[[None, 0.6, 0.8333, 2.0, 1.2, 0.2, 0.4666, 1.0, 0.2]]"
      ]
     },
     "execution_count": 12,
     "metadata": {},
     "output_type": "execute_result"
    }
   ],
   "source": [
    "L = [[] for i in range(num_type)]\n",
    "L[0].append(None)\n",
    "for i in range(num_type):\n",
    "    L[i].extend(list(lam[i])+list(mu[i]))\n",
    "[sum(L, [])]"
   ]
  },
  {
   "cell_type": "code",
   "execution_count": 14,
   "metadata": {},
   "outputs": [
    {
     "data": {
      "text/plain": [
       "[[None, 0.6, 0.8333, 2.0, 1.2], [0.2, 0.4666, 1.0, 0.2]]"
      ]
     },
     "execution_count": 14,
     "metadata": {},
     "output_type": "execute_result"
    }
   ],
   "source": [
    "L"
   ]
  },
  {
   "cell_type": "code",
   "execution_count": null,
   "metadata": {},
   "outputs": [],
   "source": [
    "flow_id = 0\n",
    "cycle_num = [cycle_num[flow_id] for cycle_num in cycle_nums]\n",
    "cycle_sum = [cycle_sum[flow_id] for cycle_sum in cycle_sums]\n",
    "\n",
    "for i, gamma in enumerate(threshold[flow_id]):\n",
    "    cycle_sum_prob = np.array([cycle_sum_prob[flow_id][i] for cycle_sum_prob in cycle_sum_probs])\n",
    "    mean, halfCI = mean_CI(cycle_sum_prob)\n",
    "    L[flow_id].extend([gamma, mean, f'[{mean-halfCI:.4g},{mean+halfCI:.4g}]', halfCI, halfCI/mean/1.96])\n",
    "    print(f'Prob {gamma} in flow 1 (Nominator): {mean:.14g}  and CI [{mean-halfCI:.14g},{mean+halfCI:.14g}] RE {halfCI/1.96/mean:.14g}')\n",
    "    mean, halfCI = cycle_statistics(cycle_num, cycle_sum_prob)\n",
    "    L[flow_id].extend([mean, f'[{mean-halfCI:.4g},{mean+halfCI:.4g}]', halfCI, halfCI/mean/1.96])\n",
    "    print(f'Prob {gamma} in flow 1: {mean:.14g}  and CI [{mean-halfCI:.14g},{mean+halfCI:.14g}] RE {halfCI/1.96/mean:.14g}')\n",
    "    freq = np.array([reason[0][i] for reason in reasons])\n",
    "    print(f'Mean flow 1 {np.mean(cycle_sum_prob[freq==0])}')\n",
    "    print(f'ratio flow 1 {sum(freq==0)/len(freq)}')\n",
    "    print(f'Mean flow 2 {np.mean(cycle_sum_prob[freq==1])}')\n",
    "    print(f'ratio flow 2 {sum(freq==1)/len(freq)}')\n",
    "    L[flow_id].extend([sum(freq==0)/len(freq), sum(freq==1)/len(freq), sum(freq==0)/len(freq) + sum(freq==1)/len(freq), sum(freq==1)/(sum(freq==0)+sum(freq==1))])\n",
    "    L[flow_id].extend([np.mean(cycle_sum_prob[freq==0]), np.mean(cycle_sum_prob[freq==1])])\n",
    "    L[flow_id].extend([np.var(cycle_sum_prob[freq==0]), np.var(cycle_sum_prob[freq==1])])\n",
    "    L[flow_id].append(np.var(cycle_sum_prob))"
   ]
  },
  {
   "cell_type": "code",
   "execution_count": null,
   "metadata": {},
   "outputs": [],
   "source": [
    "flow_id = 1\n",
    "\n",
    "cycle_num = [cycle_num[flow_id] for cycle_num in cycle_nums]\n",
    "cycle_sum = [cycle_sum[flow_id] for cycle_sum in cycle_sums]\n",
    "\n",
    "for i, gamma in enumerate(threshold[1]):\n",
    "        cycle_sum_prob = np.array([cycle_sum_prob[1][i] for cycle_sum_prob in cycle_sum_probs])\n",
    "        mean, halfCI = mean_CI(cycle_sum_prob)\n",
    "        L[flow_id].extend([mean, f'[{mean-halfCI:.4g},{mean+halfCI:.4g}]', halfCI, halfCI/mean/1.96, time.time()-start])\n",
    "        print(f'Prob {gamma} in flow 2 (Nominator): {mean:.14g}  and CI [{mean-halfCI:.14g},{mean+halfCI:.14g}] RE {halfCI/1.96/mean:.14g}')\n",
    "        print(f'std {np.std(cycle_sum_prob)}')\n",
    "        mean, halfCI = cycle_statistics(cycle_num, cycle_sum_prob)\n",
    "        L[flow_id].extend([mean, f'[{mean-halfCI:.4g},{mean+halfCI:.4g}]', halfCI, halfCI/mean/1.96, time.time()-start])\n",
    "        print(f'Prob {gamma} in flow 2: {mean:.14g}  and CI [{mean-halfCI:.14g},{mean+halfCI:.14g}] RE {halfCI/1.96/mean:.14g}')\n",
    "        freq = np.array([reason[1][i] for reason in reasons])\n",
    "        assert len(freq) == len(cycle_sum_prob)\n",
    "        print(f'Mean flow 1 {np.mean(cycle_sum_prob[freq==0])}')\n",
    "        print(f'Std flow 1 {np.std(cycle_sum_prob[freq==0])}')\n",
    "        print(f'ratio flow 1 {sum(freq==0)/len(freq)}')\n",
    "        print(f'Mean flow 2 {np.mean(cycle_sum_prob[freq==1])}')\n",
    "        print(f'Std flow 2 {np.std(cycle_sum_prob[freq==1])}')\n",
    "        print(f'ratio flow 2 {sum(freq==1)/len(freq)}')\n",
    "        L[flow_id].extend([sum(freq==0)/len(freq), sum(freq==1)/len(freq), sum(freq==0)/len(freq) + sum(freq==1)/len(freq), sum(freq==1)/(sum(freq==0)+sum(freq==1))])\n",
    "        L[flow_id].extend([np.mean(cycle_sum_prob[freq==0]), np.mean(cycle_sum_prob[freq==1])])\n",
    "        L[flow_id].extend([np.var(cycle_sum_prob[freq==0]), np.var(cycle_sum_prob[freq==1])])\n",
    "        L[flow_id].append(np.var(cycle_sum_prob))\n",
    "        print(f'Frquency reason {gamma} in flow 1 (Nominator): {mean:.14g}  and CI [{mean-halfCI:.14g},{mean+halfCI:.14g}] RE {halfCI/1.96/mean:.14g}')"
   ]
  }
 ],
 "metadata": {
  "interpreter": {
   "hash": "ed225720166559e7176d3793db16a2fd8d295f725007103b21ac3099d2a89ee8"
  },
  "kernelspec": {
   "display_name": "Python 3.9.7 ('base')",
   "language": "python",
   "name": "python3"
  },
  "language_info": {
   "codemirror_mode": {
    "name": "ipython",
    "version": 3
   },
   "file_extension": ".py",
   "mimetype": "text/x-python",
   "name": "python",
   "nbconvert_exporter": "python",
   "pygments_lexer": "ipython3",
   "version": "3.9.7"
  },
  "orig_nbformat": 4
 },
 "nbformat": 4,
 "nbformat_minor": 2
}
