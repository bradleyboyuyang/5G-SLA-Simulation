{
 "cells": [
  {
   "cell_type": "markdown",
   "metadata": {},
   "source": [
    "### **M/M/1 Queue Simulation**"
   ]
  },
  {
   "cell_type": "code",
   "execution_count": 1,
   "metadata": {},
   "outputs": [
    {
     "data": {
      "text/plain": [
       "'\\nCreated on Thu Jan 20 12:13:00 2022\\n\\n@author: Yang Boyu\\n\\nPart 1 code for Fast Simulation Project\\n'"
      ]
     },
     "execution_count": 1,
     "metadata": {},
     "output_type": "execute_result"
    }
   ],
   "source": [
    "# -*- coding: utf-8 -*-\n",
    "\"\"\"\n",
    "Created on Thu Jan 20 12:13:00 2022\n",
    "\n",
    "@author: Yang Boyu\n",
    "\n",
    "Part 1 code for Fast Simulation Project\n",
    "\"\"\""
   ]
  },
  {
   "cell_type": "code",
   "execution_count": 2,
   "metadata": {},
   "outputs": [],
   "source": [
    "# package and settings\n",
    "import numpy as np\n",
    "import pandas as pd\n",
    "\n",
    "import warnings\n",
    "warnings.filterwarnings('ignore') \n",
    "\n",
    "# This allows multiple outputs from a single jupyter notebook cell:\n",
    "from IPython.core.interactiveshell import InteractiveShell\n",
    "InteractiveShell.ast_node_interactivity = \"all\"\n",
    "\n",
    "from IPython.display import display\n",
    "pd.set_option('expand_frame_repr', False)\n",
    "pd.set_option('display.unicode.ambiguous_as_wide', True)\n",
    "pd.set_option('display.unicode.east_asian_width', True)\n",
    "pd.set_option('display.width', 180)"
   ]
  },
  {
   "cell_type": "markdown",
   "metadata": {},
   "source": [
    "#### **1. Lindley's Recursion**"
   ]
  },
  {
   "cell_type": "markdown",
   "metadata": {},
   "source": [
    "Target: \n",
    "\n",
    "Construct normal confidence interval for $E[W_n]$ with n=1, 10, 100, 1000, 10000 with interval width $\\leq$ 0.05, where $\\lambda = 0.5$ and $ \\mu = 2$.\n",
    "\n",
    "Compare the simulation result with the theoretical steady-state mean waiting time $\\frac{\\rho}{\\mu - \\lambda}$, where $\\rho = \\frac{\\lambda}{\\mu}$ is the traffic load or utilization rate for the server."
   ]
  },
  {
   "cell_type": "markdown",
   "metadata": {},
   "source": [
    "We simulate the M/M/1 queue based on the Lindley Recursion formula: $W_{n+1}=[W_n+V_n-T_n]^{+}$, where in M/M/1 queue, service time $V_n \\sim exp(\\mu)$ and interarrival time $T_n \\sim exp(\\lambda)$. "
   ]
  },
  {
   "cell_type": "code",
   "execution_count": 9,
   "metadata": {},
   "outputs": [],
   "source": [
    "# estimate expected waiting time using Crude Monte Carlo\n",
    "# return expected simulated waiting time and 95% confidence interval\n",
    "def wat_time_simulation(lam, mu, n) -> list:\n",
    "    estimate = []\n",
    "    if n == 1:\n",
    "        return [0, 0, 0]\n",
    "    while True:\n",
    "        W = 0\n",
    "        for _ in range(n-1):\n",
    "            V = np.random.exponential(scale=1/mu, size=1)\n",
    "            T = np.random.exponential(scale=1/lam, size=1)\n",
    "            W = max(0, W+V-T)\n",
    "        estimate.append(W)\n",
    "\n",
    "        if ((len(estimate) > 50000)): break\n",
    "\n",
    "    estimate_wat = np.mean(estimate)\n",
    "    return [estimate_wat-1.96*np.std(estimate)/np.sqrt(len(estimate)), estimate_wat, estimate_wat+1.96*np.std(estimate)/np.sqrt(len(estimate))]"
   ]
  },
  {
   "cell_type": "code",
   "execution_count": 10,
   "metadata": {},
   "outputs": [
    {
     "name": "stdout",
     "output_type": "stream",
     "text": [
      "n=1: Estimated mean waiting time: 0.000000; 95% Confidence interval: [0.000000, 0.000000]\n"
     ]
    }
   ],
   "source": [
    "# simulate the result under lambda=1.5 and mu=0.2\n",
    "np.random.seed(43)\n",
    "wat = wat_time_simulation(lam=1.5, mu=2, n=1)\n",
    "print(\"n=1: Estimated mean waiting time: %f; 95%% Confidence interval: [%f, %f]\"%(wat[1], wat[0], wat[2]))"
   ]
  },
  {
   "cell_type": "code",
   "execution_count": 11,
   "metadata": {},
   "outputs": [
    {
     "name": "stdout",
     "output_type": "stream",
     "text": [
      "n=10: Estimated mean waiting time: 0.854324; 95% Confidence interval: [0.844877, 0.863772]\n"
     ]
    }
   ],
   "source": [
    "np.random.seed(43)\n",
    "wat = wat_time_simulation(lam=1.5, mu=2, n=10)\n",
    "print(\"n=10: Estimated mean waiting time: %f; 95%% Confidence interval: [%f, %f]\"%(wat[1], wat[0], wat[2]))"
   ]
  },
  {
   "cell_type": "code",
   "execution_count": 12,
   "metadata": {},
   "outputs": [
    {
     "name": "stdout",
     "output_type": "stream",
     "text": [
      "n=100: Estimated mean waiting time: 1.483175; 95% Confidence interval: [1.466490, 1.499860]\n"
     ]
    }
   ],
   "source": [
    "np.random.seed(43)\n",
    "wat = wat_time_simulation(lam=1.5, mu=2, n=100)\n",
    "print(\"n=100: Estimated mean waiting time: %f; 95%% Confidence interval: [%f, %f]\"%(wat[1], wat[0], wat[2]))"
   ]
  },
  {
   "cell_type": "code",
   "execution_count": 13,
   "metadata": {},
   "outputs": [
    {
     "name": "stdout",
     "output_type": "stream",
     "text": [
      "n=1000: Estimated mean waiting time: 1.504443; 95% Confidence interval: [1.487524, 1.521363]\n"
     ]
    }
   ],
   "source": [
    "np.random.seed(43)\n",
    "wat = wat_time_simulation(lam=1.5, mu=2, n=1000)\n",
    "print(\"n=1000: Estimated mean waiting time: %f; 95%% Confidence interval: [%f, %f]\"%(wat[1], wat[0], wat[2]))"
   ]
  },
  {
   "cell_type": "code",
   "execution_count": 14,
   "metadata": {},
   "outputs": [
    {
     "name": "stdout",
     "output_type": "stream",
     "text": [
      "n=10000: Estimated mean waiting time: 1.509648; 95% Confidence interval: [1.492566, 1.526730]\n"
     ]
    }
   ],
   "source": [
    "np.random.seed(43)\n",
    "wat = wat_time_simulation(lam=1.5, mu=2, n=10000)\n",
    "print(\"n=10000: Estimated mean waiting time: %f; 95%% Confidence interval: [%f, %f]\"%(wat[1], wat[0], wat[2]))"
   ]
  },
  {
   "cell_type": "markdown",
   "metadata": {},
   "source": [
    "#### **2. Regenerative Method**"
   ]
  },
  {
   "cell_type": "markdown",
   "metadata": {},
   "source": [
    "Use the regenerative cycle to estimate the steady-state expected waiting time, using the same parameters with interval width ≤ 0.05, i.e.,\n",
    "$\\lambda = 1.5$ and $\\mu = 2$."
   ]
  },
  {
   "cell_type": "code",
   "execution_count": 48,
   "metadata": {},
   "outputs": [],
   "source": [
    "# generate i.i.d cycles to estimate expected waiting time\n",
    "# output the estimated waiting time and 95% confidence interval\n",
    "def regen_method(lam, mu, n) -> list:\n",
    "    num_sigma = []\n",
    "    num_waiting = []\n",
    "    \n",
    "    for _ in range(n):\n",
    "        \n",
    "        cycle_time = 1\n",
    "        wat_time = 0\n",
    "        W = 0\n",
    "        while True:\n",
    "            V = np.random.exponential(scale=1/mu, size=1)\n",
    "            T = np.random.exponential(scale=1/lam, size=1)\n",
    "            W = max(0, W+V-T)\n",
    "            if W == 0:\n",
    "                break\n",
    "            else:\n",
    "                cycle_time += 1\n",
    "                wat_time += W[0]\n",
    "                \n",
    "        num_sigma.append(cycle_time)\n",
    "        num_waiting.append(wat_time)\n",
    "    estimate_wat = np.mean(num_waiting)/np.mean(num_sigma)\n",
    "\n",
    "    S = np.sqrt(np.cov(num_waiting, num_sigma)[0][0]-2*estimate_wat*np.cov(num_waiting, num_sigma)[0][1]+np.cov(num_waiting, num_sigma)[1][1]*(estimate_wat**2))\n",
    "\n",
    "    return [estimate_wat-1.96*S/np.mean(num_sigma)/np.sqrt(n), estimate_wat, estimate_wat+1.96*S/np.mean(num_sigma)/np.sqrt(n)]"
   ]
  },
  {
   "cell_type": "code",
   "execution_count": 49,
   "metadata": {},
   "outputs": [
    {
     "name": "stdout",
     "output_type": "stream",
     "text": [
      "Regenerative method with number of cycles 1000000: Estimated mean waiting time: 1.498611; 95% Confidence interval: [1.485029, 1.512194]\n"
     ]
    }
   ],
   "source": [
    "np.random.seed(43)\n",
    "regen = regen_method(1.5, 2, 1000000)\n",
    "print(\"Regenerative method with number of cycles 1000000: Estimated mean waiting time: %f; 95%% Confidence interval: [%f, %f]\"%(regen[1], regen[0], regen[2]))"
   ]
  },
  {
   "cell_type": "markdown",
   "metadata": {},
   "source": [
    "#### **3. Change of Measure/Importance Sampling**"
   ]
  },
  {
   "cell_type": "markdown",
   "metadata": {},
   "source": [
    "Target:\n",
    "\n",
    "- Consider two system settings, $\\lambda = 0.9,\\mu=2.7$ (light traffic) and $\\lambda = 1.6,\\mu=2$ (heavy traffic)\n",
    "- Use the optimal change of measure $\\lambda^{'} = \\mu$ and $\\mu^{'} = \\lambda$ and another two change of measures about $\\theta$ such that $\\frac{\\lambda}{\\lambda + \\theta}\\times \\frac{\\mu}{\\mu - \\theta}=0.9$ or $1.1$ (take the solution near the optimal $\\theta$)\n",
    "- Try threshold $\\gamma$ such that $P(W_{\\infty} > \\gamma) = \\rho \\times e^{(\\mu - \\lambda)\\gamma}$ will be $0.001, 10^{-5}, 10^{-10}$"
   ]
  },
  {
   "cell_type": "markdown",
   "metadata": {},
   "source": [
    "We first try regenerative method **without** using change of measure, that is $P(W_{\\infty}>\\gamma)=\\frac{E[\\sum_{n=1}^\\sigma I_{W_n \\geq \\gamma}]}{E[\\sigma]}$, and the try the regenerative method **with** possible change of measure. we try two cases (light traffic and heavy traffic), Theoretically, the tail probability $P(W_{\\infty} > \\gamma)$ will be $\\rho e^{-(\\mu-\\lambda)\\gamma}$, which is 0.05599 ($\\lambda =0.9,\\mu =2.7,\\gamma = 1$), 0.0091079($\\lambda =0.9,\\mu =2.7,\\gamma = 2$), 0.161517($\\lambda =1.6,\\mu =2,\\gamma = 4$), and 0.10826822($\\lambda =1.6,\\mu =2,\\gamma = 5$). We will try different parameters and see if our estimation gets closer to the true value."
   ]
  },
  {
   "cell_type": "code",
   "execution_count": 31,
   "metadata": {},
   "outputs": [],
   "source": [
    "# estimate the tail probability without change of measure\n",
    "# return the estimated numerator, denominator, and the tail probability\n",
    "def importance_sampling_without_change(lam, mu, gamma, n) -> list:\n",
    "    num_sigma = []\n",
    "    num_waiting = []\n",
    "\n",
    "    for i in range(n):\n",
    "        \n",
    "        cycle_time = 1\n",
    "        exceed_indicator = 0\n",
    "        W = 0\n",
    "        while True:\n",
    "            V = np.random.exponential(scale=1/mu, size=1)\n",
    "            T = np.random.exponential(scale=1/lam, size=1)\n",
    "            W = max(0, W+V-T)\n",
    "            if W == 0:\n",
    "                break\n",
    "            else:\n",
    "                cycle_time += 1\n",
    "                if W >= gamma:\n",
    "                    exceed_indicator += 1    \n",
    "                \n",
    "        num_sigma.append(cycle_time)\n",
    "        num_waiting.append(exceed_indicator)\n",
    "    return [np.mean(num_waiting), np.mean(num_sigma), np.mean(num_waiting)/np.mean(num_sigma)]"
   ]
  },
  {
   "cell_type": "code",
   "execution_count": 42,
   "metadata": {},
   "outputs": [],
   "source": [
    "# estimate the tail probability with change of measure\n",
    "\n",
    "# this function estimate the denominator, i.e. the cycle length without change of measure\n",
    "# return the list of the estimate\n",
    "def deno_estimate(lam, mu, n) -> list:\n",
    "    num_sigma = []\n",
    "    for i in range(n):\n",
    "        cycle_time = 1\n",
    "        W = 0\n",
    "        while True:\n",
    "            V = np.random.exponential(scale=1/mu, size=1)\n",
    "            T = np.random.exponential(scale=1/lam, size=1)\n",
    "            W = max(0, W+V-T)\n",
    "            if W == 0:\n",
    "                break\n",
    "            else:\n",
    "                cycle_time += 1\n",
    "        num_sigma.append(cycle_time)\n",
    "    return num_sigma\n",
    "\n",
    "# this function estimate the numerator, i.e. the indicator expectation under change of measure with likelihood \n",
    "# return the list of the estimate\n",
    "def num_estimate(lam, mu, gamma, theta, n) -> list:\n",
    "\n",
    "    num_waiting = []\n",
    "    \n",
    "    # change of measure\n",
    "    lam_new = lam + theta\n",
    "    mu_new = mu - theta\n",
    "    \n",
    "    # generate cycles\n",
    "    for i in range(n):\n",
    "        exceed_indicator = 0\n",
    "        W = 0\n",
    "        likelihood = 1\n",
    "        threshold = True\n",
    "        while True:\n",
    "            if threshold:\n",
    "                V = np.random.exponential(scale=1/mu_new, size=1)\n",
    "                T = np.random.exponential(scale=1/lam_new, size=1)\n",
    "                W = max(0, W+V-T)\n",
    "            else:\n",
    "                V = np.random.exponential(scale=1/mu, size=1)\n",
    "                T = np.random.exponential(scale=1/lam, size=1)\n",
    "                W = max(0, W+V-T)\n",
    "            if W == 0: break\n",
    "            else:\n",
    "                if threshold:\n",
    "                    likelihood = likelihood * (lam*np.exp(-lam*T)*mu*np.exp(-mu*V))/(lam_new*np.exp(-lam_new*T)*mu_new*np.exp(-mu_new*V))\n",
    "                if W >= gamma:\n",
    "                    threshold = False\n",
    "                    exceed_indicator += likelihood[0]\n",
    "        num_waiting.append(exceed_indicator)\n",
    "    return num_waiting\n",
    "\n",
    "# estimate the tail probability\n",
    "# return the numerator estimate, denominator estimate, and the ratio\n",
    "def importance_sampling_with_change(lam, mu, gamma, theta, n) -> dict:\n",
    "    waiting = num_estimate(lam, mu, gamma, theta, n)\n",
    "    sigma = deno_estimate(lam, mu, n)\n",
    "    num_mean = np.mean(waiting)\n",
    "    num_std = np.std(waiting)\n",
    "    den_mean = np.mean(sigma)\n",
    "    den_std = np.mean(sigma)\n",
    "    prob_mean = num_mean/den_mean\n",
    "    S = np.sqrt(num_std**2-2*prob_mean*np.cov(waiting, sigma)[0][1]+den_std**2*(prob_mean**2))\n",
    "\n",
    "    rela_error_num = num_std/np.sqrt(n)/num_mean\n",
    "    theo_prob = lam/mu*np.exp(-(mu-lam)*gamma)\n",
    "    rela_error_prob = S/den_mean/np.sqrt(n)/prob_mean\n",
    "\n",
    "    return {\"num_mean\": num_mean, \"95% num_CI\": [num_mean-1.96*num_std/np.sqrt(n), num_mean+1.96*num_std/np.sqrt(n)],\"num_RE\": rela_error_num,\"den_mean\": den_mean, \"prob_mean\": prob_mean, \"95% prob_CI\": [prob_mean-1.96*S/den_mean/np.sqrt(n), prob_mean+1.96*S/den_mean/np.sqrt(n)], \"Prob_RE\": rela_error_prob}\n"
   ]
  },
  {
   "cell_type": "markdown",
   "metadata": {},
   "source": [
    "Now we try another two change of measure about $\\theta$ near the optimal solution, that is, $\\frac{\\lambda}{\\lambda + \\theta}\\times \\frac{\\mu}{\\mu-\\theta} = 0.9$ or $1.1$ in the light traffic case, and  $\\frac{\\lambda}{\\lambda + \\theta}\\times \\frac{\\mu}{\\mu-\\theta} = 0.99$ or $1.1$ for the heavy traffic case."
   ]
  },
  {
   "cell_type": "code",
   "execution_count": 43,
   "metadata": {},
   "outputs": [
    {
     "data": {
      "text/plain": [
       "[1.80000000000000]"
      ]
     },
     "execution_count": 43,
     "metadata": {},
     "output_type": "execute_result"
    },
    {
     "data": {
      "text/plain": [
       "[0.165153077165047, 1.63484692283495]"
      ]
     },
     "execution_count": 43,
     "metadata": {},
     "output_type": "execute_result"
    },
    {
     "data": {
      "text/plain": [
       "[1.91533693467198]"
      ]
     },
     "execution_count": 43,
     "metadata": {},
     "output_type": "execute_result"
    },
    {
     "data": {
      "text/plain": [
       "[0.400000000000000]"
      ]
     },
     "execution_count": 43,
     "metadata": {},
     "output_type": "execute_result"
    },
    {
     "data": {
      "text/plain": [
       "[0.112382834576964, 0.287617165423036]"
      ]
     },
     "execution_count": 43,
     "metadata": {},
     "output_type": "execute_result"
    },
    {
     "data": {
      "text/plain": [
       "[0.467737125398835]"
      ]
     },
     "execution_count": 43,
     "metadata": {},
     "output_type": "execute_result"
    }
   ],
   "source": [
    "from sympy import *\n",
    "def solve_theta(lam, mu, value):\n",
    "    x = symbols('x', positive=True) # restrict the solution to be positive\n",
    "    return solve(lam/(lam+x)*mu/(mu-x)-value, x)\n",
    "solve_theta(0.9, 2.7, 1)\n",
    "solve_theta(0.9, 2.7, 0.9)\n",
    "solve_theta(0.9, 2.7, 1.1)\n",
    "solve_theta(1.6, 2, 1)\n",
    "solve_theta(1.6, 2, 0.99)\n",
    "solve_theta(1.6, 2, 1.01)"
   ]
  },
  {
   "cell_type": "markdown",
   "metadata": {},
   "source": [
    "The above result shows that in the light traffic case, we can try $\\theta = 1.6348$ or $1.91534$ and in the heavy traffic case, we can try $\\theta = 0.77524$ or $0.287617$. Now we try the threshold $\\gamma$ such that the tail probability would be $0.001, 10^{-5}, 10^{-10}$ under the optimal change of measure. In the light traffic case, we obtain that when $\\gamma = 3.2273,5.78573,12.181799$, the tail probability would be $0.001, 10^{-5}, 10^{-10}$ under different changes of measure. This is in accordance with the theoretical solution."
   ]
  },
  {
   "cell_type": "code",
   "execution_count": 44,
   "metadata": {},
   "outputs": [
    {
     "data": {
      "text/plain": [
       "{'num_mean': 0.0014988018117590028,\n",
       " '95% num_CI': [0.0014815411154416496, 0.001516062508076356],\n",
       " 'num_RE': 0.005875678587951486,\n",
       " 'den_mean': 1.49548,\n",
       " 'prob_mean': 0.0010022212344926063,\n",
       " '95% prob_CI': [0.0009891083257715617, 0.001015334143213651],\n",
       " 'Prob_RE': 0.006675431852070469}"
      ]
     },
     "execution_count": 44,
     "metadata": {},
     "output_type": "execute_result"
    }
   ],
   "source": [
    "np.random.seed(43)\n",
    "importance_sampling_with_change(0.9, 2.7, 3.2273, 1.6348, 100000)"
   ]
  },
  {
   "cell_type": "code",
   "execution_count": 45,
   "metadata": {},
   "outputs": [
    {
     "data": {
      "text/plain": [
       "{'num_mean': 0.0014946506056786203,\n",
       " '95% num_CI': [0.0014785413481964759, 0.0015107598631607646],\n",
       " 'num_RE': 0.005498949980841687,\n",
       " 'den_mean': 1.49514,\n",
       " 'prob_mean': 0.0009996726765912358,\n",
       " '95% prob_CI': [0.000987219987172545, 0.0010121253660099266],\n",
       " 'Prob_RE': 0.006355493270441424}"
      ]
     },
     "execution_count": 45,
     "metadata": {},
     "output_type": "execute_result"
    }
   ],
   "source": [
    "np.random.seed(43)\n",
    "importance_sampling_with_change(0.9, 2.7, 3.2273, 1.8, 100000)"
   ]
  },
  {
   "cell_type": "code",
   "execution_count": 46,
   "metadata": {},
   "outputs": [
    {
     "data": {
      "text/plain": [
       "{'num_mean': 0.001495736240648181,\n",
       " '95% num_CI': [0.0014784399571564355, 0.0015130325241399264],\n",
       " 'num_RE': 0.005899860011909449,\n",
       " 'den_mean': 1.49655,\n",
       " 'prob_mean': 0.0009994562431246406,\n",
       " '95% prob_CI': [0.0009863284634557946, 0.0010125840227934865],\n",
       " 'Prob_RE': 0.006701490751490671}"
      ]
     },
     "execution_count": 46,
     "metadata": {},
     "output_type": "execute_result"
    }
   ],
   "source": [
    "np.random.seed(43)\n",
    "importance_sampling_with_change(0.9, 2.7, 3.2273, 1.91534, 100000)"
   ]
  },
  {
   "cell_type": "code",
   "execution_count": 47,
   "metadata": {},
   "outputs": [
    {
     "data": {
      "text/plain": [
       "{'num_mean': 1.5076809772005212e-05,\n",
       " '95% num_CI': [1.4893287560291367e-05, 1.5260331983719055e-05],\n",
       " 'num_RE': 0.006210450546409058,\n",
       " 'den_mean': 1.50148,\n",
       " 'prob_mean': 1.0041299099558578e-05,\n",
       " '95% prob_CI': [9.903930147203908e-06, 1.0178668051913247e-05],\n",
       " 'Prob_RE': 0.006979794096964511}"
      ]
     },
     "execution_count": 47,
     "metadata": {},
     "output_type": "execute_result"
    }
   ],
   "source": [
    "np.random.seed(43)\n",
    "importance_sampling_with_change(0.9, 2.7, 5.78573, 1.6348, 100000)"
   ]
  },
  {
   "cell_type": "code",
   "execution_count": 48,
   "metadata": {},
   "outputs": [
    {
     "data": {
      "text/plain": [
       "{'num_mean': 1.5066076099803132e-05,\n",
       " '95% num_CI': [1.4905408869572123e-05, 1.522674333003414e-05],\n",
       " 'num_RE': 0.005440904194659195,\n",
       " 'den_mean': 1.50559,\n",
       " 'prob_mean': 1.0006758878448404e-05,\n",
       " '95% prob_CI': [9.883071433457934e-06, 1.0130446323438873e-05],\n",
       " 'Prob_RE': 0.0063063215619958}"
      ]
     },
     "execution_count": 48,
     "metadata": {},
     "output_type": "execute_result"
    }
   ],
   "source": [
    "np.random.seed(43)\n",
    "importance_sampling_with_change(0.9, 2.7, 5.78573, 1.8, 100000)"
   ]
  },
  {
   "cell_type": "code",
   "execution_count": 49,
   "metadata": {},
   "outputs": [
    {
     "data": {
      "text/plain": [
       "{'num_mean': 1.5015246008953483e-05,\n",
       " '95% num_CI': [1.4835352373013885e-05, 1.5195139644893081e-05],\n",
       " 'num_RE': 0.006112618285534039,\n",
       " 'den_mean': 1.50509,\n",
       " 'prob_mean': 9.976311057115177e-06,\n",
       " '95% prob_CI': [9.841805907542706e-06, 1.0110816206687649e-05],\n",
       " 'Prob_RE': 0.006878802787884401}"
      ]
     },
     "execution_count": 49,
     "metadata": {},
     "output_type": "execute_result"
    }
   ],
   "source": [
    "np.random.seed(43)\n",
    "importance_sampling_with_change(0.9, 2.7, 5.78573, 1.91534, 100000)"
   ]
  },
  {
   "cell_type": "code",
   "execution_count": 50,
   "metadata": {},
   "outputs": [
    {
     "data": {
      "text/plain": [
       "{'num_mean': 1.4980136772219786e-10,\n",
       " '95% num_CI': [1.4767094753840843e-10, 1.519317879059873e-10],\n",
       " 'num_RE': 0.007255935575819755,\n",
       " 'den_mean': 1.50457,\n",
       " 'prob_mean': 9.956423943199576e-11,\n",
       " '95% prob_CI': [9.802004919215797e-11, 1.0110842967183355e-10],\n",
       " 'Prob_RE': 0.007913003380301686}"
      ]
     },
     "execution_count": 50,
     "metadata": {},
     "output_type": "execute_result"
    }
   ],
   "source": [
    "np.random.seed(43)\n",
    "importance_sampling_with_change(0.9, 2.7, 12.181799, 1.6348, 100000)"
   ]
  },
  {
   "cell_type": "code",
   "execution_count": 51,
   "metadata": {},
   "outputs": [
    {
     "data": {
      "text/plain": [
       "{'num_mean': 1.4821210336073484e-10,\n",
       " '95% num_CI': [1.466293690655783e-10, 1.4979483765589139e-10],\n",
       " 'num_RE': 0.00544839105051648,\n",
       " 'den_mean': 1.50465,\n",
       " 'prob_mean': 9.850271050459232e-11,\n",
       " '95% prob_CI': [9.728760774961986e-11, 9.971781325956478e-11],\n",
       " 'Prob_RE': 0.006293739350057068}"
      ]
     },
     "execution_count": 51,
     "metadata": {},
     "output_type": "execute_result"
    }
   ],
   "source": [
    "np.random.seed(43)\n",
    "importance_sampling_with_change(0.9, 2.7, 12.181799, 1.8, 100000)"
   ]
  },
  {
   "cell_type": "code",
   "execution_count": 52,
   "metadata": {},
   "outputs": [
    {
     "data": {
      "text/plain": [
       "{'num_mean': 1.504899900934638e-10,\n",
       " '95% num_CI': [1.4842549495800974e-10, 1.5255448522891787e-10],\n",
       " 'num_RE': 0.006999228612914704,\n",
       " 'den_mean': 1.50041,\n",
       " 'prob_mean': 1.002992449353602e-10,\n",
       " '95% prob_CI': [9.878867806031636e-11, 1.0180981181040405e-10],\n",
       " 'Prob_RE': 0.0076839799314854995}"
      ]
     },
     "execution_count": 52,
     "metadata": {},
     "output_type": "execute_result"
    }
   ],
   "source": [
    "np.random.seed(43)\n",
    "importance_sampling_with_change(0.9, 2.7, 12.181799, 1.91534, 100000)"
   ]
  },
  {
   "cell_type": "markdown",
   "metadata": {},
   "source": [
    "In the heavy traffic case, we obtain that when $\\gamma = 16.711529,28.22445478,57.00676845$, the tail probability would be $0.001, 10^{-5}, 10^{-10}$ under different changes of measure."
   ]
  },
  {
   "cell_type": "code",
   "execution_count": 53,
   "metadata": {},
   "outputs": [
    {
     "data": {
      "text/plain": [
       "{'num_mean': 0.0049337170804164944,\n",
       " '95% num_CI': [0.004735946160711278, 0.005131488000121711],\n",
       " 'num_RE': 0.020451827459333594,\n",
       " 'den_mean': 4.98232,\n",
       " 'prob_mean': 0.0009902449221279434,\n",
       " '95% prob_CI': [0.0009501137609576281, 0.0010303760832982586],\n",
       " 'Prob_RE': 0.020676785886216548}"
      ]
     },
     "execution_count": 53,
     "metadata": {},
     "output_type": "execute_result"
    }
   ],
   "source": [
    "np.random.seed(43)\n",
    "importance_sampling_with_change(1.6, 2, 16.711529, 0.287617, 100000)"
   ]
  },
  {
   "cell_type": "code",
   "execution_count": 54,
   "metadata": {},
   "outputs": [
    {
     "data": {
      "text/plain": [
       "{'num_mean': 0.005031184679157149,\n",
       " '95% num_CI': [0.0049100294439076335, 0.005152339914406665],\n",
       " 'num_RE': 0.012286151170627018,\n",
       " 'den_mean': 5.0439,\n",
       " 'prob_mean': 0.0009974790696003388,\n",
       " '95% prob_CI': [0.0009727757712192522, 0.0010221823679814254],\n",
       " 'Prob_RE': 0.012635577074183271}"
      ]
     },
     "execution_count": 54,
     "metadata": {},
     "output_type": "execute_result"
    }
   ],
   "source": [
    "np.random.seed(43)\n",
    "importance_sampling_with_change(1.6, 2, 16.711529, 0.4, 100000)"
   ]
  },
  {
   "cell_type": "code",
   "execution_count": 55,
   "metadata": {},
   "outputs": [
    {
     "data": {
      "text/plain": [
       "{'num_mean': 0.0050125486435099575,\n",
       " '95% num_CI': [0.004892335707014254, 0.005132761580005661],\n",
       " 'num_RE': 0.012235917340087407,\n",
       " 'den_mean': 4.99355,\n",
       " 'prob_mean': 0.001003804636683313,\n",
       " '95% prob_CI': [0.0009788595033257963, 0.0010287497700408295],\n",
       " 'Prob_RE': 0.012678870360598947}"
      ]
     },
     "execution_count": 55,
     "metadata": {},
     "output_type": "execute_result"
    }
   ],
   "source": [
    "np.random.seed(43)\n",
    "importance_sampling_with_change(1.6, 2, 16.711529, 0.467737125398835, 100000)"
   ]
  },
  {
   "cell_type": "code",
   "execution_count": 56,
   "metadata": {},
   "outputs": [
    {
     "data": {
      "text/plain": [
       "{'num_mean': 0.003964337551309024,\n",
       " '95% num_CI': [0.0032689691051241533, 0.004659705997493894],\n",
       " 'num_RE': 0.08949283830912143,\n",
       " 'den_mean': 4.98652,\n",
       " 'prob_mean': 0.0007950108595391222,\n",
       " '95% prob_CI': [0.0006554697608290313, 0.0009345519582492132],\n",
       " 'Prob_RE': 0.08955152909315685}"
      ]
     },
     "execution_count": 56,
     "metadata": {},
     "output_type": "execute_result"
    }
   ],
   "source": [
    "np.random.seed(43)\n",
    "importance_sampling_with_change(1.6, 2, 16.711529, 0.77524, 100000)"
   ]
  },
  {
   "cell_type": "code",
   "execution_count": 57,
   "metadata": {},
   "outputs": [
    {
     "data": {
      "text/plain": [
       "{'num_mean': 5.002432778245905e-05,\n",
       " '95% num_CI': [4.723956702708743e-05, 5.280908853783066e-05],\n",
       " 'num_RE': 0.028402106869674475,\n",
       " 'den_mean': 5.02052,\n",
       " 'prob_mean': 9.963973409618734e-06,\n",
       " '95% prob_CI': [9.405672259693007e-06, 1.052227455954446e-05],\n",
       " 'Prob_RE': 0.028587744443128605}"
      ]
     },
     "execution_count": 57,
     "metadata": {},
     "output_type": "execute_result"
    }
   ],
   "source": [
    "np.random.seed(43)\n",
    "importance_sampling_with_change(1.6, 2, 28.22445478, 0.287617, 100000)"
   ]
  },
  {
   "cell_type": "code",
   "execution_count": 58,
   "metadata": {},
   "outputs": [
    {
     "data": {
      "text/plain": [
       "{'num_mean': 4.963833340687203e-05,\n",
       " '95% num_CI': [4.843370253606917e-05, 5.084296427767489e-05],\n",
       " 'num_RE': 0.012381712780454232,\n",
       " 'den_mean': 5.00206,\n",
       " 'prob_mean': 9.923578167169532e-06,\n",
       " '95% prob_CI': [9.674678674796374e-06, 1.017247765954269e-05],\n",
       " 'Prob_RE': 0.012796748792205244}"
      ]
     },
     "execution_count": 58,
     "metadata": {},
     "output_type": "execute_result"
    }
   ],
   "source": [
    "np.random.seed(43)\n",
    "importance_sampling_with_change(1.6, 2, 28.22445478, 0.4, 100000)"
   ]
  },
  {
   "cell_type": "code",
   "execution_count": 59,
   "metadata": {},
   "outputs": [
    {
     "data": {
      "text/plain": [
       "{'num_mean': 3.508940529337968e-05,\n",
       " '95% num_CI': [1.320939850514163e-05, 5.696941208161772e-05],\n",
       " 'num_RE': 0.31813787313218966,\n",
       " 'den_mean': 4.99489,\n",
       " 'prob_mean': 7.025060670681372e-06,\n",
       " '95% prob_CI': [2.6442403566525147e-06, 1.1405880984710229e-05],\n",
       " 'Prob_RE': 0.31816271914132477}"
      ]
     },
     "execution_count": 59,
     "metadata": {},
     "output_type": "execute_result"
    }
   ],
   "source": [
    "np.random.seed(43)\n",
    "importance_sampling_with_change(1.6, 2, 28.22445478, 0.77524, 100000)"
   ]
  },
  {
   "cell_type": "code",
   "execution_count": 60,
   "metadata": {},
   "outputs": [
    {
     "data": {
      "text/plain": [
       "{'num_mean': 4.852160613904955e-05,\n",
       " '95% num_CI': [4.708688524522257e-05, 4.995632703287653e-05],\n",
       " 'num_RE': 0.015086072252770512,\n",
       " 'den_mean': 4.93848,\n",
       " 'prob_mean': 9.8252106192694e-06,\n",
       " '95% prob_CI': [9.52853533481649e-06, 1.012188590372231e-05],\n",
       " 'Prob_RE': 0.015405770615292781}"
      ]
     },
     "execution_count": 60,
     "metadata": {},
     "output_type": "execute_result"
    }
   ],
   "source": [
    "np.random.seed(43)\n",
    "importance_sampling_with_change(1.6, 2, 28.22445478, 0.467737125398835, 100000)"
   ]
  },
  {
   "cell_type": "code",
   "execution_count": 61,
   "metadata": {},
   "outputs": [
    {
     "data": {
      "text/plain": [
       "{'num_mean': 4.6518021459142134e-10,\n",
       " '95% num_CI': [4.220047320575072e-10, 5.083556971253355e-10],\n",
       " 'num_RE': 0.04735435154870096,\n",
       " 'den_mean': 4.96371,\n",
       " 'prob_mean': 9.371623535448714e-11,\n",
       " '95% prob_CI': [8.49982143497978e-11, 1.024342563591765e-10],\n",
       " 'Prob_RE': 0.047462106043067165}"
      ]
     },
     "execution_count": 61,
     "metadata": {},
     "output_type": "execute_result"
    }
   ],
   "source": [
    "np.random.seed(43)\n",
    "importance_sampling_with_change(1.6, 2, 57.00676845, 0.287617, 100000)"
   ]
  },
  {
   "cell_type": "code",
   "execution_count": 62,
   "metadata": {},
   "outputs": [
    {
     "data": {
      "text/plain": [
       "{'num_mean': 5.084921576597931e-10,\n",
       " '95% num_CI': [4.962385421818115e-10, 5.207457731377747e-10],\n",
       " 'num_RE': 0.012294869325803905,\n",
       " 'den_mean': 4.95758,\n",
       " 'prob_mean': 1.0256862373573258e-10,\n",
       " '95% prob_CI': [1.0001472421459041e-10, 1.0512252325687475e-10],\n",
       " 'Prob_RE': 0.012703787106704346}"
      ]
     },
     "execution_count": 62,
     "metadata": {},
     "output_type": "execute_result"
    }
   ],
   "source": [
    "np.random.seed(43)\n",
    "importance_sampling_with_change(1.6, 2, 57.00676845, 0.4, 100000)"
   ]
  },
  {
   "cell_type": "code",
   "execution_count": 63,
   "metadata": {},
   "outputs": [
    {
     "data": {
      "text/plain": [
       "{'num_mean': 2.6530871308157046e-10,\n",
       " '95% num_CI': [8.650387395167509e-12, 5.219670387679735e-10],\n",
       " 'num_RE': 0.4935688836949164,\n",
       " 'den_mean': 4.9961,\n",
       " 'prob_mean': 5.310316308351924e-11,\n",
       " '95% prob_CI': [1.7289029361761949e-12, 1.0447742323086229e-10],\n",
       " 'Prob_RE': 0.4935931439113643}"
      ]
     },
     "execution_count": 63,
     "metadata": {},
     "output_type": "execute_result"
    }
   ],
   "source": [
    "np.random.seed(43)\n",
    "importance_sampling_with_change(1.6, 2, 57.00676845, 0.77524, 100000)"
   ]
  },
  {
   "cell_type": "code",
   "execution_count": 64,
   "metadata": {},
   "outputs": [
    {
     "data": {
      "text/plain": [
       "{'num_mean': 5.055186667565153e-10,\n",
       " '95% num_CI': [4.740195547773568e-10, 5.370177787356739e-10],\n",
       " 'num_RE': 0.03179106244025471,\n",
       " 'den_mean': 5.0054,\n",
       " 'prob_mean': 1.0099465911945406e-10,\n",
       " '95% prob_CI': [9.466966609881008e-11, 1.0731965214009803e-10],\n",
       " 'Prob_RE': 0.031952553566359766}"
      ]
     },
     "execution_count": 64,
     "metadata": {},
     "output_type": "execute_result"
    }
   ],
   "source": [
    "np.random.seed(43)\n",
    "importance_sampling_with_change(1.6, 2, 57.00676845, 0.467737125398835, 100000)"
   ]
  },
  {
   "cell_type": "code",
   "execution_count": null,
   "metadata": {},
   "outputs": [],
   "source": []
  }
 ],
 "metadata": {
  "kernelspec": {
   "display_name": "Python 3.9.7 ('base')",
   "language": "python",
   "name": "python3"
  },
  "language_info": {
   "codemirror_mode": {
    "name": "ipython",
    "version": 3
   },
   "file_extension": ".py",
   "mimetype": "text/x-python",
   "name": "python",
   "nbconvert_exporter": "python",
   "pygments_lexer": "ipython3",
   "version": "3.9.7"
  },
  "vscode": {
   "interpreter": {
    "hash": "6f5583cf1d9466b5c27e75c89cc6b383bed5736d6b16c51c8074d8690011a952"
   }
  }
 },
 "nbformat": 4,
 "nbformat_minor": 2
}
