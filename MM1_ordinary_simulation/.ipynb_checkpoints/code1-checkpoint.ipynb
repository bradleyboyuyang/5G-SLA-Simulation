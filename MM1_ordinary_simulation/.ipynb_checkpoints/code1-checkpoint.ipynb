{
 "cells": [
  {
   "cell_type": "markdown",
   "metadata": {},
   "source": [
    "### **M/M/1 Queue Simulation**"
   ]
  },
  {
   "cell_type": "code",
   "execution_count": null,
   "metadata": {},
   "outputs": [],
   "source": [
    "# -*- coding: utf-8 -*-\n",
    "\"\"\"\n",
    "Created on Thu Jan 20 12:13:00 2022\n",
    "\n",
    "@author: Yang Boyu\n",
    "\n",
    "Part 1 code for Fast Simulation Project\n",
    "\"\"\""
   ]
  },
  {
   "cell_type": "code",
   "execution_count": 10,
   "metadata": {},
   "outputs": [],
   "source": [
    "# package and settings\n",
    "import numpy as np\n",
    "import pandas as pd\n",
    "import matplotlib.pyplot as plt\n",
    "import seaborn as sns\n",
    "import statsmodels.api as sm\n",
    "from datetime import datetime\n",
    "\n",
    "plt.rcParams['font.family'] = ['sans-serif']\n",
    "plt.rcParams['font.sans-serif'] = ['SimHei'] \n",
    "plt.rcParams['axes.unicode_minus'] = False\n",
    "\n",
    "%config InlineBackend.figure_format = 'svg'\n",
    "%matplotlib inline\n",
    "\n",
    "import warnings\n",
    "warnings.filterwarnings('ignore') \n",
    "\n",
    "# This allows multiple outputs from a single jupyter notebook cell:\n",
    "from IPython.core.interactiveshell import InteractiveShell\n",
    "InteractiveShell.ast_node_interactivity = \"all\"\n",
    "\n",
    "from IPython.display import display\n",
    "pd.set_option('expand_frame_repr', False)\n",
    "pd.set_option('display.unicode.ambiguous_as_wide', True)\n",
    "pd.set_option('display.unicode.east_asian_width', True)\n",
    "pd.set_option('display.width', 180)"
   ]
  },
  {
   "cell_type": "markdown",
   "metadata": {},
   "source": [
    "#### **1. Lindley's Recursion**"
   ]
  },
  {
   "cell_type": "markdown",
   "metadata": {},
   "source": [
    "Target: \n",
    "\n",
    "Construct normal confidence interval for $E[W_n]$ with n=1, 10, 100, 1000, 10000 with interval width $\\leq$ 0.05, where $\\lambda = 0.5$ and $ \\mu = 2$.\n",
    "\n",
    "Compare the simulation result with the theoretical steady-state mean waiting time $\\frac{\\rho}{\\mu - \\lambda}$, where $\\rho = \\frac{\\lambda}{\\mu}$ is the traffic load or utilization rate for the server."
   ]
  },
  {
   "cell_type": "markdown",
   "metadata": {},
   "source": [
    "We simulate the M/M/1 queue based on the Lindley Recursion formula: $W_{n+1}=[W_n+V_n-T_n]^{+}$, where in M/M/1 queue, service time $V_n \\sim exp(\\mu)$ and interarrival time $T_n \\sim exp(\\lambda)$. "
   ]
  },
  {
   "cell_type": "code",
   "execution_count": 21,
   "metadata": {},
   "outputs": [],
   "source": [
    "# estimate expected waiting time using Crude Monte Carlo\n",
    "# return expected simulated waiting time and 95% confidence interval\n",
    "def wat_time_simulation(lam, mu, n) -> list:\n",
    "    nums = []\n",
    "    W = 0\n",
    "    if n > 1:\n",
    "        for _ in range(n-1):\n",
    "            V = np.random.exponential(scale=1/mu, size=1)\n",
    "            T = np.random.exponential(scale=1/lam, size=1)\n",
    "            W = max(0, W+V-T)\n",
    "            nums.append(W)\n",
    "        estimate_wat = np.mean(nums)\n",
    "        return [estimate_wat-1.96*np.std(nums)/np.sqrt(n), estimate_wat, estimate_wat+1.96*np.std(nums)/np.sqrt(n)]\n",
    "    else:\n",
    "        return [0, 0, 0]"
   ]
  },
  {
   "cell_type": "code",
   "execution_count": 22,
   "metadata": {},
   "outputs": [
    {
     "name": "stdout",
     "output_type": "stream",
     "text": [
      "n=1: Estimated mean waiting time: 0.000000; 95% Confidence interval: [0.000000, 0.000000]\n",
      "n=10: Estimated mean waiting time: 0.312883; 95% Confidence interval: [0.058201, 0.567564]\n",
      "n=100: Estimated mean waiting time: 1.000744; 95% Confidence interval: [0.776335, 1.225153]\n",
      "n=1000: Estimated mean waiting time: 1.355562; 95% Confidence interval: [1.263659, 1.447465]\n",
      "n=10000: Estimated mean waiting time: 1.276660; 95% Confidence interval: [1.244858, 1.308462]\n",
      "n=100000: Estimated mean waiting time: 1.458456; 95% Confidence interval: [1.446981, 1.469930]\n",
      "n=500000: Estimated mean waiting time: 1.501824; 95% Confidence interval: [1.496393, 1.507256]\n"
     ]
    }
   ],
   "source": [
    "# simulate the result under lambda=1.5 and mu=0.2\n",
    "np.random.seed(100)\n",
    "wat = wat_time_simulation(1.5, 2, 1)\n",
    "print(\"n=1: Estimated mean waiting time: %f; 95%% Confidence interval: [%f, %f]\"%(wat[1], wat[0], wat[2]))\n",
    "wat = wat_time_simulation(1.5, 2, 10)\n",
    "print(\"n=10: Estimated mean waiting time: %f; 95%% Confidence interval: [%f, %f]\"%(wat[1], wat[0], wat[2]))\n",
    "wat = wat_time_simulation(1.5, 2, 100)\n",
    "print(\"n=100: Estimated mean waiting time: %f; 95%% Confidence interval: [%f, %f]\"%(wat[1], wat[0], wat[2]))\n",
    "wat = wat_time_simulation(1.5, 2, 1000)\n",
    "print(\"n=1000: Estimated mean waiting time: %f; 95%% Confidence interval: [%f, %f]\"%(wat[1], wat[0], wat[2]))\n",
    "wat = wat_time_simulation(1.5, 2, 10000)\n",
    "print(\"n=10000: Estimated mean waiting time: %f; 95%% Confidence interval: [%f, %f]\"%(wat[1], wat[0], wat[2]))\n",
    "wat = wat_time_simulation(1.5, 2, 100000)\n",
    "print(\"n=100000: Estimated mean waiting time: %f; 95%% Confidence interval: [%f, %f]\"%(wat[1], wat[0], wat[2]))\n",
    "wat = wat_time_simulation(1.5, 2, 500000)\n",
    "print(\"n=500000: Estimated mean waiting time: %f; 95%% Confidence interval: [%f, %f]\"%(wat[1], wat[0], wat[2]))"
   ]
  },
  {
   "cell_type": "markdown",
   "metadata": {},
   "source": [
    "Conclusion:\n",
    "\n",
    "Since the theoretical result of the steady state mean waiting time is $\\frac{\\rho}{\\mu - \\lambda}$, which in the case is 1.5 in accurate value, we can see from the above simulation result, that as the number of simulation number n increases, the expected mean waiting time is also increasing, when n is large enough (in the test case of 500000), we obtain the simulation result is 1.501824, approximately equal to theoretical value, and its 95% confidence interval covers the true parameter value. However, for most random seeds tried, the result and the confidence interval are unstable, sometimes cover the true value but sometimes not. This indicates simulating the steady state distribution simply by running the system for a long time is inaccurate."
   ]
  },
  {
   "cell_type": "markdown",
   "metadata": {},
   "source": [
    "#### **2. Regenerative Method**"
   ]
  },
  {
   "cell_type": "markdown",
   "metadata": {},
   "source": [
    "Use the regenerative cycle to estimate the steady-state expected waiting time, using the same parameters with interval width ≤ 0.05, i.e.,\n",
    "$\\lambda = 1.5$ and $\\mu = 2$."
   ]
  },
  {
   "cell_type": "code",
   "execution_count": 15,
   "metadata": {},
   "outputs": [],
   "source": [
    "# generate i.i.d cycles to estimate expected waiting time\n",
    "# output the estimated waiting time and 95% confidence interval\n",
    "def regen_method(lam, mu, n) -> list:\n",
    "    num_sigma = []\n",
    "    num_waiting = []\n",
    "    \n",
    "    for _ in range(n):\n",
    "        \n",
    "        cycle_time = 1\n",
    "        wat_time = 0\n",
    "        W = 0\n",
    "        while True:\n",
    "            V = np.random.exponential(scale=1/mu, size=1)\n",
    "            T = np.random.exponential(scale=1/lam, size=1)\n",
    "            W = max(0, W+V-T)\n",
    "            if W == 0:\n",
    "                break\n",
    "            else:\n",
    "                cycle_time += 1\n",
    "                wat_time += W[0]\n",
    "                \n",
    "        num_sigma.append(cycle_time)\n",
    "        num_waiting.append(wat_time)\n",
    "    estimate_wat = np.mean(num_waiting)/np.mean(num_sigma)\n",
    "\n",
    "    S = np.sqrt(np.cov(num_waiting, num_sigma)[0][0]-2*estimate_wat*np.cov(num_waiting, num_sigma)[0][1]+np.cov(num_waiting, num_sigma)[1][1]*(estimate_wat**2))\n",
    "\n",
    "    return [estimate_wat-1.96*S/np.mean(num_sigma)/np.sqrt(n), estimate_wat, estimate_wat+1.96*S/np.mean(num_sigma)/np.sqrt(n)]"
   ]
  },
  {
   "cell_type": "code",
   "execution_count": 20,
   "metadata": {},
   "outputs": [
    {
     "name": "stdout",
     "output_type": "stream",
     "text": [
      "Regenerative method with number of cycles 1000000: Estimated mean waiting time: 1.498125; 95% Confidence interval: [1.484815, 1.511434]\n"
     ]
    }
   ],
   "source": [
    "np.random.seed(42)\n",
    "regen = regen_method(1.5, 2, 1000000)\n",
    "print(\"Regenerative method with number of cycles 1000000: Estimated mean waiting time: %f; 95%% Confidence interval: [%f, %f]\"%(regen[1], regen[0], regen[2]))"
   ]
  },
  {
   "cell_type": "markdown",
   "metadata": {},
   "source": [
    "Conclusion:\n",
    "\n",
    "We obtain the regenerative method gives more accurate estimate of the expected waiting time, and the confidence interval covers the true value of 1.5 for most random seeds if the simulated i.i.d cycles are large enough. Thoretically this can be justified since the estimator generated by regenerative method is consistent to the true value."
   ]
  },
  {
   "cell_type": "markdown",
   "metadata": {},
   "source": [
    "#### **3. Change of Measure/Importance Sampling**"
   ]
  },
  {
   "cell_type": "markdown",
   "metadata": {},
   "source": [
    "Previous method 1, the Crude Monte Carlo method (CMC) corresponds to the importance sampling method with no change of measure. Hence we want to obtain better estimate by using change of measure to reduce the variance and improve the accuracy."
   ]
  },
  {
   "cell_type": "markdown",
   "metadata": {},
   "source": [
    "Target:\n",
    "\n",
    "- Consider two system settings, $\\lambda = 0.9,\\mu=2.7$ (light traffic) and $\\lambda = 1.6,\\mu=2$ (heavy traffic)\n",
    "- Use the optimal change of measure $\\lambda^{'} = \\mu$ and $\\mu^{'} = \\lambda$ and another two change of measures about $\\theta$ such that $\\frac{\\lambda}{\\lambda + \\theta}\\times \\frac{\\mu}{\\mu - \\theta}=0.9$ or $1.1$ (take the solution near the optimal $\\theta$)\n",
    "- Try threshold $\\gamma$ such that $P(W_{\\infty} > \\gamma) = \\rho \\times e^{(\\mu - \\lambda)\\gamma}$ will be $0.001, 10^{-5}, 10^{-10}$"
   ]
  },
  {
   "cell_type": "markdown",
   "metadata": {},
   "source": [
    "We first try regenerative method **without** using change of measure, that is $P(W_{\\infty}>\\gamma)=\\frac{E[\\sum_{n=1}^\\sigma I_{W_n \\geq \\gamma}]}{E[\\sigma]}$, and the try the regenerative method **with** possible change of measure. we try two cases (light traffic and heavy traffic), Theoretically, the tail probability $P(W_{\\infty} > \\gamma)$ will be $\\rho e^{-(\\mu-\\lambda)\\gamma}$, which is 0.05599 ($\\lambda =0.9,\\mu =2.7,\\gamma = 1$), 0.0091079($\\lambda =0.9,\\mu =2.7,\\gamma = 2$), 0.161517($\\lambda =1.6,\\mu =2,\\gamma = 4$), and 0.10826822($\\lambda =1.6,\\mu =2,\\gamma = 5$). We will try different parameters and see if our estimation gets closer to the true value."
   ]
  },
  {
   "cell_type": "code",
   "execution_count": 27,
   "metadata": {},
   "outputs": [],
   "source": [
    "# estimate the tail probability without change of measure\n",
    "# return the estimated numerator, denominator, and the tail probability\n",
    "def importance_sampling_without_change(lam, mu, gamma, n) -> list:\n",
    "    num_sigma = []\n",
    "    num_waiting = []\n",
    "\n",
    "    for i in range(n):\n",
    "        \n",
    "        cycle_time = 1\n",
    "        exceed_indicator = 0\n",
    "        W = 0\n",
    "        while True:\n",
    "            V = np.random.exponential(scale=1/mu, size=1)\n",
    "            T = np.random.exponential(scale=1/lam, size=1)\n",
    "            W = max(0, W+V-T)\n",
    "            if W == 0:\n",
    "                break\n",
    "            else:\n",
    "                cycle_time += 1\n",
    "                if W >= gamma:\n",
    "                    exceed_indicator += 1    \n",
    "                \n",
    "        num_sigma.append(cycle_time)\n",
    "        num_waiting.append(exceed_indicator)\n",
    "    return [np.mean(num_waiting), np.mean(num_sigma), np.mean(num_waiting)/np.mean(num_sigma)]"
   ]
  },
  {
   "cell_type": "code",
   "execution_count": 28,
   "metadata": {},
   "outputs": [
    {
     "data": {
      "text/plain": [
       "[0.08264, 1.50132, 0.055044893826765785]"
      ]
     },
     "execution_count": 28,
     "metadata": {},
     "output_type": "execute_result"
    }
   ],
   "source": [
    "# case 1: light traffic with lambda=0.9, mu=2.7, gamma=1\n",
    "np.random.seed(42)\n",
    "importance_sampling_without_change(0.9, 2.7, 1, 100000)"
   ]
  },
  {
   "cell_type": "code",
   "execution_count": 29,
   "metadata": {},
   "outputs": [
    {
     "data": {
      "text/plain": [
       "[0.01363, 1.50132, 0.009078677430527803]"
      ]
     },
     "execution_count": 29,
     "metadata": {},
     "output_type": "execute_result"
    }
   ],
   "source": [
    "# case 2: light traffic with lambda=0.9, mu=2.7, gamma=2\n",
    "np.random.seed(42)\n",
    "importance_sampling_without_change(0.9, 2.7, 2, 100000)"
   ]
  },
  {
   "cell_type": "code",
   "execution_count": 33,
   "metadata": {},
   "outputs": [
    {
     "data": {
      "text/plain": [
       "[0.80552, 5.01127, 0.16074168823471896]"
      ]
     },
     "execution_count": 33,
     "metadata": {},
     "output_type": "execute_result"
    }
   ],
   "source": [
    "# case 3: heavy traffic with lambda=1.6, mu=2, gamma=4\n",
    "np.random.seed(43)\n",
    "importance_sampling_without_change(1.6, 2, 4, 100000)"
   ]
  },
  {
   "cell_type": "code",
   "execution_count": 32,
   "metadata": {},
   "outputs": [
    {
     "data": {
      "text/plain": [
       "[0.53653, 5.01127, 0.10706467621980056]"
      ]
     },
     "execution_count": 32,
     "metadata": {},
     "output_type": "execute_result"
    }
   ],
   "source": [
    "# case 4: heavy traffic with lambda=1.6, mu=2, gamma=5\n",
    "np.random.seed(43)\n",
    "importance_sampling_without_change(1.6, 2, 5, 100000)"
   ]
  },
  {
   "cell_type": "markdown",
   "metadata": {},
   "source": [
    "It seems the raw estimation above without change of measure obtain more accurate result in the light traffic case and less accurate result in the heavy traffic case. We now use the optimal change of measure $\\lambda^{'}= \\mu, \\mu^{'} = \\lambda, \\theta = \\mu - \\lambda$ to simulate the tail probability with the same set of parameters."
   ]
  },
  {
   "cell_type": "code",
   "execution_count": 60,
   "metadata": {},
   "outputs": [],
   "source": [
    "# estimate the tail probability with change of measure\n",
    "\n",
    "# this function estimate the denominator, i.e. the cycle length without change of measure\n",
    "def deno_estimate(lam, mu, n):\n",
    "    num_sigma = []\n",
    "    for i in range(n):\n",
    "        cycle_time = 1\n",
    "        W = 0\n",
    "        while True:\n",
    "            V = np.random.exponential(scale=1/mu, size=1)\n",
    "            T = np.random.exponential(scale=1/lam, size=1)\n",
    "            W = max(0, W+V-T)\n",
    "            if W == 0:\n",
    "                break\n",
    "            else:\n",
    "                cycle_time += 1\n",
    "        num_sigma.append(cycle_time)\n",
    "    return np.mean(num_sigma)\n",
    "\n",
    "# this function estimate the numerator, i.e. the indicator expectation under change of measure with likelihood \n",
    "def num_estimate(lam, mu, gamma, theta, n):\n",
    "    num_waiting = []\n",
    "    \n",
    "    # change of measure\n",
    "    lam_new = lam + theta\n",
    "    mu_new = mu - theta\n",
    "    \n",
    "    # generate cycles\n",
    "    for i in range(n):\n",
    "        exceed_indicator = 0\n",
    "        W = 0\n",
    "        likelihood = 1\n",
    "        threshold = True\n",
    "        while True:\n",
    "            if threshold:\n",
    "                V = np.random.exponential(scale=1/mu_new, size=1)\n",
    "                T = np.random.exponential(scale=1/lam_new, size=1)\n",
    "                W = max(0, W+V-T)\n",
    "            else:\n",
    "                V = np.random.exponential(scale=1/mu, size=1)\n",
    "                T = np.random.exponential(scale=1/lam, size=1)\n",
    "                W = max(0, W+V-T)\n",
    "            if W == 0: break\n",
    "            else:\n",
    "                if threshold:\n",
    "                    likelihood = likelihood * (lam*np.exp(-lam*T)*mu*np.exp(-mu*V))/(lam_new*np.exp(-lam_new*T)*mu_new*np.exp(-mu_new*V))\n",
    "                if W >= gamma:\n",
    "                    threshold = False\n",
    "                    exceed_indicator += likelihood[0]\n",
    "        num_waiting.append(exceed_indicator)\n",
    "    return np.mean(num_waiting)\n",
    "\n",
    "# estimate the tail probability\n",
    "# return the numerator estimate, denominator estimate, and the ratio\n",
    "def importance_sampling_with_change(lam, mu, gamma, theta, n) -> list:\n",
    "    num = num_estimate(lam, mu, gamma, theta, n)\n",
    "    den = deno_estimate(lam, mu, n)\n",
    "    return [num, den, num/den]\n"
   ]
  },
  {
   "cell_type": "markdown",
   "metadata": {},
   "source": [
    "Estimate the tail probability with the best change of measure:"
   ]
  },
  {
   "cell_type": "code",
   "execution_count": 61,
   "metadata": {},
   "outputs": [
    {
     "data": {
      "text/plain": [
       "[0.0830539092115093, 1.49742, 0.05546467204358784]"
      ]
     },
     "execution_count": 61,
     "metadata": {},
     "output_type": "execute_result"
    }
   ],
   "source": [
    "# case 1: light traffic with lambda=0.9, mu=2.7, gamma=1\n",
    "np.random.seed(42)\n",
    "importance_sampling_with_change(0.9, 2.7, 1, 1.8, 100000)"
   ]
  },
  {
   "cell_type": "code",
   "execution_count": 62,
   "metadata": {},
   "outputs": [
    {
     "data": {
      "text/plain": [
       "[0.0136927772191999, 1.49923, 0.009133206525483014]"
      ]
     },
     "execution_count": 62,
     "metadata": {},
     "output_type": "execute_result"
    }
   ],
   "source": [
    "# case 2: light traffic with lambda=0.9, mu=2.7, gamma=2\n",
    "np.random.seed(42)\n",
    "importance_sampling_with_change(0.9, 2.7, 2, 1.8, 100000)"
   ]
  },
  {
   "cell_type": "code",
   "execution_count": 69,
   "metadata": {},
   "outputs": [
    {
     "data": {
      "text/plain": [
       "[0.8026894097624098, 5.00685, 0.16031824595552288]"
      ]
     },
     "execution_count": 69,
     "metadata": {},
     "output_type": "execute_result"
    }
   ],
   "source": [
    "# case 3: heavy traffic with lambda=1.6, mu=2, gamma=4\n",
    "np.random.seed(43)\n",
    "importance_sampling_with_change(1.6, 2, 4, 0.4, 100000)"
   ]
  },
  {
   "cell_type": "code",
   "execution_count": 70,
   "metadata": {},
   "outputs": [
    {
     "data": {
      "text/plain": [
       "[0.5386212695525863, 5.00016, 0.10772080684469822]"
      ]
     },
     "execution_count": 70,
     "metadata": {},
     "output_type": "execute_result"
    }
   ],
   "source": [
    "# case 4: heavy traffic with lambda=1.6, mu=2, gamma=5\n",
    "np.random.seed(43)\n",
    "importance_sampling_with_change(1.6, 2, 5, 0.4, 100000)"
   ]
  },
  {
   "cell_type": "markdown",
   "metadata": {},
   "source": [
    "Now we try another two change of measure about $\\theta$ near the optimal solution, that is, $\\frac{\\lambda}{\\lambda + \\theta}\\times \\frac{\\mu}{\\mu-\\theta} = 0.9$ or $1.1$."
   ]
  },
  {
   "cell_type": "code",
   "execution_count": 66,
   "metadata": {},
   "outputs": [
    {
     "data": {
      "text/plain": [
       "[1.80000000000000]"
      ]
     },
     "execution_count": 66,
     "metadata": {},
     "output_type": "execute_result"
    },
    {
     "data": {
      "text/plain": [
       "[0.165153077165047, 1.63484692283495]"
      ]
     },
     "execution_count": 66,
     "metadata": {},
     "output_type": "execute_result"
    },
    {
     "data": {
      "text/plain": [
       "[1.91533693467198]"
      ]
     },
     "execution_count": 66,
     "metadata": {},
     "output_type": "execute_result"
    },
    {
     "data": {
      "text/plain": [
       "[0.400000000000000]"
      ]
     },
     "execution_count": 66,
     "metadata": {},
     "output_type": "execute_result"
    },
    {
     "data": {
      "text/plain": [
       "[]"
      ]
     },
     "execution_count": 66,
     "metadata": {},
     "output_type": "execute_result"
    },
    {
     "data": {
      "text/plain": [
       "[0.775246982529323]"
      ]
     },
     "execution_count": 66,
     "metadata": {},
     "output_type": "execute_result"
    }
   ],
   "source": [
    "from sympy import *\n",
    "def solve_theta(lam, mu, value):\n",
    "    x = symbols('x', positive=True) # restrict the solution to be positive\n",
    "    return solve(lam/(lam+x)*mu/(mu-x)-value, x)\n",
    "solve_theta(0.9, 2.7, 1)\n",
    "solve_theta(0.9, 2.7, 0.9)\n",
    "solve_theta(0.9, 2.7, 1.1)\n",
    "solve_theta(1.6, 2, 1)\n",
    "solve_theta(1.6, 2, 0.9)\n",
    "solve_theta(1.6, 2, 1.1)"
   ]
  },
  {
   "cell_type": "markdown",
   "metadata": {},
   "source": [
    "The above result shows that in the light traffic case, we can try $\\theta = 1.6348$ or $1.91534$ and in the heavy traffic case, we can try $\\theta = 0.77524$."
   ]
  },
  {
   "cell_type": "code",
   "execution_count": 67,
   "metadata": {},
   "outputs": [
    {
     "data": {
      "text/plain": [
       "[0.0830614401694645, 1.49653, 0.05550268966840925]"
      ]
     },
     "execution_count": 67,
     "metadata": {},
     "output_type": "execute_result"
    },
    {
     "data": {
      "text/plain": [
       "[0.08300904862968568, 1.49679, 0.0554580459715028]"
      ]
     },
     "execution_count": 67,
     "metadata": {},
     "output_type": "execute_result"
    }
   ],
   "source": [
    "# case 1: light traffic with lambda=0.9, mu=2.7, gamma=1\n",
    "np.random.seed(42)\n",
    "importance_sampling_with_change(0.9, 2.7, 1, 1.6348, 100000)\n",
    "\n",
    "np.random.seed(42)\n",
    "importance_sampling_with_change(0.9, 2.7, 1, 1.91534, 100000)"
   ]
  },
  {
   "cell_type": "code",
   "execution_count": 68,
   "metadata": {},
   "outputs": [
    {
     "data": {
      "text/plain": [
       "[0.013611319951602504, 1.5021, 0.00906152716304008]"
      ]
     },
     "execution_count": 68,
     "metadata": {},
     "output_type": "execute_result"
    },
    {
     "data": {
      "text/plain": [
       "[0.013705107200803814, 1.50079, 0.009131928651446113]"
      ]
     },
     "execution_count": 68,
     "metadata": {},
     "output_type": "execute_result"
    }
   ],
   "source": [
    "# case 2: light traffic with lambda=0.9, mu=2.7, gamma=2\n",
    "np.random.seed(42)\n",
    "importance_sampling_with_change(0.9, 2.7, 2, 1.6348, 100000)\n",
    "np.random.seed(42)\n",
    "importance_sampling_with_change(0.9, 2.7, 2, 1.91534, 100000)"
   ]
  },
  {
   "cell_type": "code",
   "execution_count": 71,
   "metadata": {},
   "outputs": [
    {
     "data": {
      "text/plain": [
       "[0.8070176255889653, 4.93246, 0.16361361786795336]"
      ]
     },
     "execution_count": 71,
     "metadata": {},
     "output_type": "execute_result"
    }
   ],
   "source": [
    "# case 3: heavy traffic with lambda=1.6, mu=2, gamma=4\n",
    "np.random.seed(43)\n",
    "importance_sampling_with_change(1.6, 2, 4, 0.77524, 100000)"
   ]
  },
  {
   "cell_type": "code",
   "execution_count": 72,
   "metadata": {},
   "outputs": [
    {
     "data": {
      "text/plain": [
       "[0.539087847918415, 5.01275, 0.1075433340817745]"
      ]
     },
     "execution_count": 72,
     "metadata": {},
     "output_type": "execute_result"
    }
   ],
   "source": [
    "# case 4: heavy traffic with lambda=1.6, mu=2, gamma=5\n",
    "np.random.seed(43)\n",
    "importance_sampling_with_change(1.6, 2, 5, 0.77524, 100000)"
   ]
  },
  {
   "cell_type": "markdown",
   "metadata": {},
   "source": [
    "Lastly we try the threshold $\\gamma$ such that the tail probability would be $0.001, 10^{-5}, 10^{-10}$ under the optimal change of measure."
   ]
  },
  {
   "cell_type": "markdown",
   "metadata": {},
   "source": [
    "In the light traffic case, we obtain that when $\\gamma = 3.2273,5.78573,12.181799$, the tail probability would be $0.001, 10^{-5}, 10^{-10}$ under the optimal change of measure. This is in accordance with the theoretical solution."
   ]
  },
  {
   "cell_type": "code",
   "execution_count": 75,
   "metadata": {},
   "outputs": [
    {
     "data": {
      "text/plain": [
       "[0.0014946506056786203, 1.49514, 0.0009996726765912358]"
      ]
     },
     "execution_count": 75,
     "metadata": {},
     "output_type": "execute_result"
    },
    {
     "data": {
      "text/plain": [
       "[1.5066076099803132e-05, 1.50559, 1.0006758878448404e-05]"
      ]
     },
     "execution_count": 75,
     "metadata": {},
     "output_type": "execute_result"
    },
    {
     "data": {
      "text/plain": [
       "[1.4821210336073484e-10, 1.50465, 9.850271050459232e-11]"
      ]
     },
     "execution_count": 75,
     "metadata": {},
     "output_type": "execute_result"
    }
   ],
   "source": [
    "np.random.seed(43)\n",
    "importance_sampling_with_change(0.9, 2.7, 3.2273, 1.8, 100000)\n",
    "\n",
    "np.random.seed(43)\n",
    "importance_sampling_with_change(0.9, 2.7, 5.78573, 1.8, 100000)\n",
    "\n",
    "np.random.seed(43)\n",
    "importance_sampling_with_change(0.9, 2.7, 12.181799, 1.8, 100000)"
   ]
  },
  {
   "cell_type": "markdown",
   "metadata": {},
   "source": [
    "In the heavy traffic case, we obtain that when $\\gamma = 16.711529,28.22445478,57.00676845$, the tail probability would be $0.001, 10^{-5}, 10^{-10}$ under the optimal change of measure."
   ]
  },
  {
   "cell_type": "code",
   "execution_count": 80,
   "metadata": {},
   "outputs": [
    {
     "data": {
      "text/plain": [
       "[0.004896895998955088, 4.96265, 0.000986750223964029]"
      ]
     },
     "execution_count": 80,
     "metadata": {},
     "output_type": "execute_result"
    },
    {
     "data": {
      "text/plain": [
       "[4.9227401464851246e-05, 4.9345, 9.976168095014945e-06]"
      ]
     },
     "execution_count": 80,
     "metadata": {},
     "output_type": "execute_result"
    },
    {
     "data": {
      "text/plain": [
       "[4.932031844380047e-10, 5.07496, 9.718365946490312e-11]"
      ]
     },
     "execution_count": 80,
     "metadata": {},
     "output_type": "execute_result"
    }
   ],
   "source": [
    "np.random.seed(42)\n",
    "importance_sampling_with_change(1.6, 2, 16.711529, 0.4, 100000)\n",
    "\n",
    "np.random.seed(42)\n",
    "importance_sampling_with_change(1.6, 2, 28.22445478, 0.4, 100000)\n",
    "\n",
    "np.random.seed(42)\n",
    "importance_sampling_with_change(1.6, 2, 57.00676845, 0.4, 100000)"
   ]
  },
  {
   "cell_type": "markdown",
   "metadata": {},
   "source": [
    "Some discovery and conclusions:\n",
    "- Simple estimation by Crude Monte Carlo is the least accurate. Estimation by the regenerative method is more accurate since the regenerative estimator is consistent to the true value. However it still has large variance, and with different random seeds the result fluctuates a lot. Importance sampling effectively lower down the estimation variance and obtain a more accurate result than the case without change of measure\n",
    "- The importance sampling method tends to work relatively better to estimate a **small** probability (< 0.001) rather than a **large** probability as shown in the above process\n",
    "- Different changes of measure obtain similar result of the estimated probability, indeed the numerator should be unbiased for different changes of measure and the 95% CI can cover the theoretical value most of the time.\n",
    "- The heavy traffic case is far more difficult to estimate than the light traffic case. In the code above, simulation for the light traffic case takes several times longer time than the heavy traffic case. Also the tail probability estimation for the light traffic case is more accurate than that of the heavy traffic case. "
   ]
  }
 ],
 "metadata": {
  "interpreter": {
   "hash": "ed225720166559e7176d3793db16a2fd8d295f725007103b21ac3099d2a89ee8"
  },
  "kernelspec": {
   "display_name": "Python 3 (ipykernel)",
   "language": "python",
   "name": "python3"
  },
  "language_info": {
   "codemirror_mode": {
    "name": "ipython",
    "version": 3
   },
   "file_extension": ".py",
   "mimetype": "text/x-python",
   "name": "python",
   "nbconvert_exporter": "python",
   "pygments_lexer": "ipython3",
   "version": "3.9.7"
  }
 },
 "nbformat": 4,
 "nbformat_minor": 2
}
